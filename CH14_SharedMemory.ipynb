{
 "cells": [
  {
   "cell_type": "markdown",
   "metadata": {},
   "source": [
    "# 14장. 분산형 공유변수\n",
    "- 어큐뮬레이터\n",
    "- 브로드캐스트 변수"
   ]
  },
  {
   "cell_type": "code",
   "execution_count": 8,
   "metadata": {},
   "outputs": [],
   "source": [
    "my_collection = \"Spark The Definition Guide : Big Data Processing Made Simple\".split(\" \")\n",
    "words = spark.sparkContext.parallelize(my_collection, 2)"
   ]
  },
  {
   "cell_type": "markdown",
   "metadata": {},
   "source": [
    "## 14.1 브로드캐스트 변수\n",
    "- 기존 : 공유를 위해 클로저 함수 내부에서 참조하여 사용 > 워커노드에서 태스크당 한번씩 역직렬화가 진행 > 성능저하\n",
    "- 브로드캐스트 변수 사용 : 클러스터의 모든 머신에 캐시하는 불변성 공유 변수\n",
    "<br><br>즉 직렬화와 역직렬화에 대한 부하를 줄일 수 있다"
   ]
  },
  {
   "cell_type": "code",
   "execution_count": 9,
   "metadata": {},
   "outputs": [],
   "source": [
    "# 이 구조체(딕셔너리)를 브로드캐스트\n",
    "# 보통 작은 테이블을 브로드캐스트 한다!!!\n",
    "supplementalData = {\"Spark\":1000, \"Definitive\":200, \"Big\":-300, \"Simple\":100}\n",
    "suppBroadcast = spark.sparkContext.broadcast(supplementalData)"
   ]
  },
  {
   "cell_type": "markdown",
   "metadata": {},
   "source": [
    "- value 메서드를 통해 브로드캐스트 변수를 참조할 수 있다"
   ]
  },
  {
   "cell_type": "code",
   "execution_count": 10,
   "metadata": {},
   "outputs": [
    {
     "data": {
      "text/plain": [
       "{'Big': -300, 'Definitive': 200, 'Simple': 100, 'Spark': 1000}"
      ]
     },
     "execution_count": 10,
     "metadata": {},
     "output_type": "execute_result"
    }
   ],
   "source": [
    "suppBroadcast.value"
   ]
  },
  {
   "cell_type": "markdown",
   "metadata": {},
   "source": [
    "#### 브로드캐스트 변수의 활용 예시"
   ]
  },
  {
   "cell_type": "code",
   "execution_count": 11,
   "metadata": {},
   "outputs": [
    {
     "data": {
      "text/plain": [
       "[('Big', -300),\n",
       " ('The', 0),\n",
       " ('Definition', 0),\n",
       " ('Guide', 0),\n",
       " (':', 0),\n",
       " ('Data', 0),\n",
       " ('Processing', 0),\n",
       " ('Made', 0),\n",
       " ('Simple', 100),\n",
       " ('Spark', 1000)]"
      ]
     },
     "execution_count": 11,
     "metadata": {},
     "output_type": "execute_result"
    }
   ],
   "source": [
    "words.map(lambda word : (word, suppBroadcast.value.get(word, 0)))\\\n",
    "    .sortBy(lambda wordPair : wordPair[1])\\\n",
    "    .collect()"
   ]
  },
  {
   "cell_type": "markdown",
   "metadata": {},
   "source": [
    "## 14.2 어큐뮬레이터\n",
    "- 트랜스포메이션 내부의 다양한 값을 갱신하는 데 사용\n",
    "- 내고장성을 유지 : 하나에 에러가 발생해도 다른 클러스터에 영향 없음\n",
    "- 결합성과 가환성을 가진 연산을 통해서만 더할 수 있는 변수!\n",
    "- 각 테스크에서 어큐뮬레이터를 한번만 갱신 >> 액션을 처리하는 과정에서만 갱신. 즉, 트랜스포메이션에서 어큐뮬레이션을 실행해도 액션이 실행되기 전까지는 갱신안됨"
   ]
  },
  {
   "cell_type": "code",
   "execution_count": 12,
   "metadata": {},
   "outputs": [],
   "source": [
    "flights = spark.read\\\n",
    ".parquet(\"file:///home/ubuntu/ybigta/Dataset_spark/data/flight-data/parquet/2010-summary.parquet\")"
   ]
  },
  {
   "cell_type": "markdown",
   "metadata": {},
   "source": [
    "- spark.sparkContext 로 어큐뮬레이터 생성"
   ]
  },
  {
   "cell_type": "code",
   "execution_count": 24,
   "metadata": {},
   "outputs": [],
   "source": [
    "accChina = spark.sparkContext.accumulator(0)"
   ]
  },
  {
   "cell_type": "code",
   "execution_count": 25,
   "metadata": {},
   "outputs": [],
   "source": [
    "def accChinaFunc(flight_row):\n",
    "    destination = flight_row[\"DEST_COUNTRY_NAME\"]\n",
    "    origin = flight_row[\"ORIGIN_COUNTRY_NAME\"]\n",
    "    \n",
    "    if destination == \"China\":\n",
    "        accChina.add(flight_row[\"count\"])\n",
    "    if origin == \"China\":\n",
    "        accChina.add(flight_row[\"count\"])"
   ]
  },
  {
   "cell_type": "code",
   "execution_count": 26,
   "metadata": {},
   "outputs": [],
   "source": [
    "flights.foreach(lambda flight_row : accChinaFunc(flight_row))"
   ]
  },
  {
   "cell_type": "markdown",
   "metadata": {},
   "source": [
    "### 사용자 정의 Accumulator\n",
    "- Scala : AccumulatorV2 클래스를 상속받아 완성\n",
    "- Python : AccumulatorParam 을 상속 받아 생성 가능"
   ]
  },
  {
   "cell_type": "code",
   "execution_count": null,
   "metadata": {},
   "outputs": [],
   "source": []
  }
 ],
 "metadata": {
  "kernelspec": {
   "display_name": "Python 3",
   "language": "python",
   "name": "python3"
  },
  "language_info": {
   "codemirror_mode": {
    "name": "ipython",
    "version": 3
   },
   "file_extension": ".py",
   "mimetype": "text/x-python",
   "name": "python",
   "nbconvert_exporter": "python",
   "pygments_lexer": "ipython3",
   "version": "3.6.4"
  }
 },
 "nbformat": 4,
 "nbformat_minor": 2
}
