{
 "cells": [
  {
   "cell_type": "markdown",
   "metadata": {},
   "source": [
    "# 7장. 집계함수"
   ]
  },
  {
   "cell_type": "code",
   "execution_count": 1,
   "metadata": {},
   "outputs": [
    {
     "name": "stdout",
     "output_type": "stream",
     "text": [
      "root\n",
      " |-- InvoiceNo: string (nullable = true)\n",
      " |-- StockCode: string (nullable = true)\n",
      " |-- Description: string (nullable = true)\n",
      " |-- Quantity: integer (nullable = true)\n",
      " |-- InvoiceDate: string (nullable = true)\n",
      " |-- UnitPrice: double (nullable = true)\n",
      " |-- CustomerID: integer (nullable = true)\n",
      " |-- Country: string (nullable = true)\n",
      "\n"
     ]
    }
   ],
   "source": [
    "df = spark.read.format(\"csv\")\\\n",
    "    .option(\"header\", \"true\")\\\n",
    "    .option(\"inferSchema\", \"true\")\\\n",
    "    .load(\"file:///home/ubuntu/ybigta/Dataset_spark/data/retail-data/all/*.csv\")\\\n",
    "    .coalesce(5)  \n",
    "# coalesce : null 값 거르기\n",
    "    \n",
    "df.cache()       # 빠른 접근을 위해\n",
    "df.createOrReplaceTempView(\"dfTable\")\n",
    "# 스키마 정보 출력\n",
    "df.printSchema()"
   ]
  },
  {
   "cell_type": "markdown",
   "metadata": {},
   "source": [
    "- 모든 집계함수는 함수를 사용하거나 DataFrame의 stat 속성을 사용"
   ]
  },
  {
   "cell_type": "markdown",
   "metadata": {},
   "source": [
    "## 7.1 > 집계함수"
   ]
  },
  {
   "cell_type": "markdown",
   "metadata": {},
   "source": [
    "- count : 전체 레코드 수를 구할때\n",
    "- countDistinct : 고유 레코드 수를 구할때\n",
    "- approx_count_distinct : 레코드 수 근사치 구하기~\n",
    "- first / last : DataFrame의 첫번째 값 / 마지막 값\n",
    "- min / max : 최소 / 최대\n",
    "- sum : 합\n",
    "- sumDistinct\n",
    "- 평균 avg\n",
    "- 분산과 표준편차 variance / stddev / var_pop / stddev_pop\n",
    "- 비대칭도와 첨도(변곡점) skewness\n",
    "- 공분산과 상관관계 covar_samp / covar_pop / corr\n",
    "- 복합데이터 타입의 집계"
   ]
  },
  {
   "cell_type": "markdown",
   "metadata": {},
   "source": [
    "- count"
   ]
  },
  {
   "cell_type": "code",
   "execution_count": 2,
   "metadata": {},
   "outputs": [
    {
     "name": "stdout",
     "output_type": "stream",
     "text": [
      "+----------------+\n",
      "|count(StockCode)|\n",
      "+----------------+\n",
      "|          541909|\n",
      "+----------------+\n",
      "\n",
      "+-------------------------+\n",
      "|count(DISTINCT StockCode)|\n",
      "+-------------------------+\n",
      "|                     4070|\n",
      "+-------------------------+\n",
      "\n",
      "+--------------------------------+\n",
      "|approx_count_distinct(StockCode)|\n",
      "+--------------------------------+\n",
      "|                            3364|\n",
      "+--------------------------------+\n",
      "\n"
     ]
    }
   ],
   "source": [
    "from pyspark.sql.functions import count, countDistinct, approx_count_distinct\n",
    "\n",
    "df.select(count(\"StockCode\")).show()\n",
    "\n",
    "df.select(countDistinct(\"StockCode\")).show()\n",
    "\n",
    "df.select(approx_count_distinct(\"StockCode\", 0.1)).show()"
   ]
  },
  {
   "cell_type": "markdown",
   "metadata": {},
   "source": [
    "- etc"
   ]
  },
  {
   "cell_type": "code",
   "execution_count": 3,
   "metadata": {},
   "outputs": [
    {
     "name": "stdout",
     "output_type": "stream",
     "text": [
      "+-----------------------+----------------------+\n",
      "|first(StockCode, false)|last(StockCode, false)|\n",
      "+-----------------------+----------------------+\n",
      "|                 85123A|                 22138|\n",
      "+-----------------------+----------------------+\n",
      "\n",
      "+-------------+-------------+\n",
      "|min(Quantity)|max(Quantity)|\n",
      "+-------------+-------------+\n",
      "|       -80995|        80995|\n",
      "+-------------+-------------+\n",
      "\n",
      "+-------------+----------------------+\n",
      "|sum(Quantity)|sum(DISTINCT Quantity)|\n",
      "+-------------+----------------------+\n",
      "|      5176450|                 29310|\n",
      "+-------------+----------------------+\n",
      "\n"
     ]
    }
   ],
   "source": [
    "from pyspark.sql.functions import first, last, min, max, sum, sumDistinct\n",
    "\n",
    "df.select(first(\"StockCode\"), last(\"StockCode\")).show()\n",
    "\n",
    "df.select(min(\"Quantity\"), max(\"Quantity\")).show()\n",
    "\n",
    "df.select(sum(\"Quantity\"), sumDistinct(\"Quantity\")).show()"
   ]
  },
  {
   "cell_type": "markdown",
   "metadata": {},
   "source": [
    "- 평균"
   ]
  },
  {
   "cell_type": "code",
   "execution_count": 4,
   "metadata": {},
   "outputs": [
    {
     "name": "stdout",
     "output_type": "stream",
     "text": [
      "+----------------+----------------+----------------+\n",
      "|       sum/count|   avg_purchases|  mean_purchases|\n",
      "+----------------+----------------+----------------+\n",
      "|9.55224954743324|9.55224954743324|9.55224954743324|\n",
      "+----------------+----------------+----------------+\n",
      "\n"
     ]
    }
   ],
   "source": [
    "from pyspark.sql.functions import sum, count, avg, expr\n",
    "\n",
    "df.select(\n",
    "count(\"Quantity\").alias(\"total_transaction\"),\n",
    "sum(\"Quantity\").alias(\"total_purchases\"),\n",
    "avg(\"Quantity\").alias(\"avg_purchases\"),\n",
    "expr(\"mean(Quantity)\").alias(\"mean_purchases\"))\\\n",
    ".selectExpr(\n",
    "\"total_purchases/total_transaction as `sum/count`\",\n",
    "\"avg_purchases\",\n",
    "\"mean_purchases\").show()"
   ]
  },
  {
   "cell_type": "markdown",
   "metadata": {},
   "source": [
    "- 분산, 표준편차"
   ]
  },
  {
   "cell_type": "code",
   "execution_count": 5,
   "metadata": {},
   "outputs": [
    {
     "name": "stdout",
     "output_type": "stream",
     "text": [
      "+------------------+------------------+--------------------+---------------------+\n",
      "| var_pop(Quantity)|var_samp(Quantity)|stddev_pop(Quantity)|stddev_samp(Quantity)|\n",
      "+------------------+------------------+--------------------+---------------------+\n",
      "|47559.303646609354| 47559.39140929905|  218.08095663447864|   218.08115785023486|\n",
      "+------------------+------------------+--------------------+---------------------+\n",
      "\n"
     ]
    }
   ],
   "source": [
    "from pyspark.sql.functions import var_pop, stddev_pop          #모집단 분산/표준편차\n",
    "from pyspark.sql.functions import var_samp, stddev_samp        #표본집단 분산/표준편차\n",
    "\n",
    "df.select(var_pop(\"Quantity\"), var_samp(\"Quantity\"), stddev_pop(\"Quantity\"), stddev_samp(\"Quantity\")).show()"
   ]
  },
  {
   "cell_type": "markdown",
   "metadata": {},
   "source": [
    "- 비대칭도와 첨도"
   ]
  },
  {
   "cell_type": "code",
   "execution_count": 6,
   "metadata": {},
   "outputs": [
    {
     "name": "stdout",
     "output_type": "stream",
     "text": [
      "+--------------------+------------------+\n",
      "|  skewness(Quantity)|kurtosis(Quantity)|\n",
      "+--------------------+------------------+\n",
      "|-0.26407557610527843|119768.05495536518|\n",
      "+--------------------+------------------+\n",
      "\n"
     ]
    }
   ],
   "source": [
    "from pyspark.sql.functions import skewness, kurtosis\n",
    "\n",
    "df.select(skewness(\"Quantity\"), kurtosis(\"Quantity\")).show()"
   ]
  },
  {
   "cell_type": "markdown",
   "metadata": {},
   "source": [
    "- 공분산과 상관관계"
   ]
  },
  {
   "cell_type": "code",
   "execution_count": 7,
   "metadata": {},
   "outputs": [
    {
     "name": "stdout",
     "output_type": "stream",
     "text": [
      "+-------------------------+-------------------------------+------------------------------+\n",
      "|corr(InvoiceNo, Quantity)|covar_samp(InvoiceNo, Quantity)|covar_pop(InvoiceNo, Quantity)|\n",
      "+-------------------------+-------------------------------+------------------------------+\n",
      "|     4.912186085637639E-4|             1052.7280543913773|            1052.7260778752732|\n",
      "+-------------------------+-------------------------------+------------------------------+\n",
      "\n"
     ]
    }
   ],
   "source": [
    "from pyspark.sql.functions import corr, covar_pop, covar_samp\n",
    "\n",
    "df.select(corr(\"InvoiceNo\", \"Quantity\"), covar_samp(\"InvoiceNo\", \"Quantity\"), \n",
    "         covar_pop(\"InvoiceNo\", \"Quantity\")).show()"
   ]
  },
  {
   "cell_type": "markdown",
   "metadata": {},
   "source": [
    "- 복합데이터 다루기"
   ]
  },
  {
   "cell_type": "code",
   "execution_count": 8,
   "metadata": {},
   "outputs": [
    {
     "name": "stdout",
     "output_type": "stream",
     "text": [
      "+--------------------+---------------------+\n",
      "|collect_set(Country)|collect_list(Country)|\n",
      "+--------------------+---------------------+\n",
      "|[Portugal, Italy,...| [United Kingdom, ...|\n",
      "+--------------------+---------------------+\n",
      "\n"
     ]
    }
   ],
   "source": [
    "from pyspark.sql.functions import collect_set, collect_list\n",
    "\n",
    "df.agg(collect_set(\"Country\"), collect_list(\"Country\")).show()"
   ]
  },
  {
   "cell_type": "markdown",
   "metadata": {},
   "source": [
    "## 7.2 > 그룹화"
   ]
  },
  {
   "cell_type": "markdown",
   "metadata": {},
   "source": [
    "- 그룹화작업\n",
    "    1. 하나 이상의 컬럼을 그룹화 : RelationalGroupedDataset 반환\n",
    "    2. 집계연산 수행 : DataFrame 반환"
   ]
  },
  {
   "cell_type": "markdown",
   "metadata": {},
   "source": [
    "- 그룹화 groupBy"
   ]
  },
  {
   "cell_type": "code",
   "execution_count": 9,
   "metadata": {},
   "outputs": [
    {
     "name": "stdout",
     "output_type": "stream",
     "text": [
      "+---------+----------+-----+\n",
      "|InvoiceNo|CustomerId|count|\n",
      "+---------+----------+-----+\n",
      "|   536846|     14573|   76|\n",
      "|   537026|     12395|   12|\n",
      "|   537883|     14437|    5|\n",
      "|   538068|     17978|   12|\n",
      "|   538279|     14952|    7|\n",
      "|   538800|     16458|   10|\n",
      "|   538942|     17346|   12|\n",
      "|  C539947|     13854|    1|\n",
      "|   540096|     13253|   16|\n",
      "|   540530|     14755|   27|\n",
      "|   541225|     14099|   19|\n",
      "|   541978|     13551|    4|\n",
      "|   542093|     17677|   16|\n",
      "|   543188|     12567|   63|\n",
      "|   543590|     17377|   19|\n",
      "|  C543757|     13115|    1|\n",
      "|  C544318|     12989|    1|\n",
      "|   544578|     12365|    1|\n",
      "|   545165|     16339|   20|\n",
      "|   545289|     14732|   30|\n",
      "+---------+----------+-----+\n",
      "only showing top 20 rows\n",
      "\n"
     ]
    }
   ],
   "source": [
    "df.groupBy(\"InvoiceNo\", \"CustomerId\").count().show()"
   ]
  },
  {
   "cell_type": "markdown",
   "metadata": {},
   "source": [
    "agg 메서드를 사용하는 것이 좋다 : 집계처리를 한번에 지정가능 , 표현식 사용가능"
   ]
  },
  {
   "cell_type": "code",
   "execution_count": 11,
   "metadata": {},
   "outputs": [
    {
     "name": "stdout",
     "output_type": "stream",
     "text": [
      "+---------+----+---------------+\n",
      "|InvoiceNo|quan|count(Quantity)|\n",
      "+---------+----+---------------+\n",
      "|   536596|   6|              6|\n",
      "|   536938|  14|             14|\n",
      "+---------+----+---------------+\n",
      "only showing top 2 rows\n",
      "\n"
     ]
    }
   ],
   "source": [
    "from pyspark.sql.functions import count\n",
    "\n",
    "df.groupBy(\"InvoiceNo\").agg(count(\"Quantity\").alias(\"quan\"), expr(\"count(Quantity)\")).show(2)"
   ]
  },
  {
   "cell_type": "markdown",
   "metadata": {},
   "source": [
    "- 맵을 이용한 그룹화 map"
   ]
  },
  {
   "cell_type": "code",
   "execution_count": 12,
   "metadata": {},
   "outputs": [
    {
     "name": "stdout",
     "output_type": "stream",
     "text": [
      "+---------+------------------+--------------------+\n",
      "|InvoiceNo|     avg(Quantity)|stddev_pop(Quantity)|\n",
      "+---------+------------------+--------------------+\n",
      "|   536596|               1.5|  1.1180339887498947|\n",
      "|   536938|33.142857142857146|  20.698023172885524|\n",
      "+---------+------------------+--------------------+\n",
      "only showing top 2 rows\n",
      "\n"
     ]
    }
   ],
   "source": [
    "df.groupBy(\"InvoiceNo\").agg(expr(\"avg(Quantity)\"), expr(\"stddev_pop(Quantity)\")).show(2)"
   ]
  },
  {
   "cell_type": "markdown",
   "metadata": {},
   "source": [
    "## 7.3 > 윈도우 함수"
   ]
  },
  {
   "cell_type": "code",
   "execution_count": 33,
   "metadata": {},
   "outputs": [],
   "source": [
    "from pyspark.sql.functions import col, to_date\n",
    "\n",
    "dfWithDate = df.withColumn(\"date\", to_date(col(\"InvoiceDate\"), \"MM/d/yyyy H:mm\"))\n",
    "dfWithDate.createOrReplaceTempView(\"dfWithDate\")"
   ]
  },
  {
   "cell_type": "markdown",
   "metadata": {},
   "source": [
    "- window specification(윈도우 명세) 만들기"
   ]
  },
  {
   "cell_type": "code",
   "execution_count": 34,
   "metadata": {},
   "outputs": [],
   "source": [
    "from pyspark.sql.window import Window\n",
    "from pyspark.sql.functions import desc\n",
    "\n",
    "# partitionBy 로 그룹화\n",
    "windowSpec = Window.partitionBy(\"CustomerId\", \"date\")\\\n",
    "                .orderBy(desc(\"Quantity\"))\\\n",
    "                .rowsBetween(Window.unboundedPreceding, Window.currentRow)"
   ]
  },
  {
   "cell_type": "markdown",
   "metadata": {},
   "source": [
    "- 윈도우 함수 적용"
   ]
  },
  {
   "cell_type": "code",
   "execution_count": 36,
   "metadata": {},
   "outputs": [],
   "source": [
    "from pyspark.sql.functions import dense_rank, rank, max\n",
    "\n",
    "maxPurchaseQuantity = max(col(\"Quantity\")).over(windowSpec)\n",
    "\n",
    "# dense_rank : 중복 순위를 부과하고 그 뒤로 순차적 반환\n",
    "purchaseDenseRank = dense_rank().over(windowSpec)\n",
    "\n",
    "# rank : 중복 순위를 부과하고 그 뒤로 그만큼 건너뛰고 반환\n",
    "purchaseRank = rank().over(windowSpec)"
   ]
  },
  {
   "cell_type": "markdown",
   "metadata": {},
   "source": [
    "- 윈도우 함수를 적용하면 컬럼이나 표현식을 반환 <br>\n",
    "        -> DataFrame 의 select 구문에서 사용가능"
   ]
  },
  {
   "cell_type": "code",
   "execution_count": 38,
   "metadata": {},
   "outputs": [
    {
     "name": "stdout",
     "output_type": "stream",
     "text": [
      "+----------+----------+--------+------------+-----------------+-------------------+\n",
      "|CustomerId|      date|Quantity|quantityRank|quantityDenseRank|maxPurchaseQuantity|\n",
      "+----------+----------+--------+------------+-----------------+-------------------+\n",
      "|     12346|2011-01-18|   74215|           1|                1|              74215|\n",
      "|     12346|2011-01-18|  -74215|           2|                2|              74215|\n",
      "|     12347|2010-12-07|      36|           1|                1|                 36|\n",
      "|     12347|2010-12-07|      30|           2|                2|                 36|\n",
      "|     12347|2010-12-07|      24|           3|                3|                 36|\n",
      "|     12347|2010-12-07|      12|           4|                4|                 36|\n",
      "|     12347|2010-12-07|      12|           4|                4|                 36|\n",
      "|     12347|2010-12-07|      12|           4|                4|                 36|\n",
      "|     12347|2010-12-07|      12|           4|                4|                 36|\n",
      "|     12347|2010-12-07|      12|           4|                4|                 36|\n",
      "|     12347|2010-12-07|      12|           4|                4|                 36|\n",
      "|     12347|2010-12-07|      12|           4|                4|                 36|\n",
      "|     12347|2010-12-07|      12|           4|                4|                 36|\n",
      "|     12347|2010-12-07|      12|           4|                4|                 36|\n",
      "|     12347|2010-12-07|      12|           4|                4|                 36|\n",
      "|     12347|2010-12-07|      12|           4|                4|                 36|\n",
      "|     12347|2010-12-07|      12|           4|                4|                 36|\n",
      "|     12347|2010-12-07|      12|           4|                4|                 36|\n",
      "|     12347|2010-12-07|       6|          17|                5|                 36|\n",
      "|     12347|2010-12-07|       6|          17|                5|                 36|\n",
      "+----------+----------+--------+------------+-----------------+-------------------+\n",
      "only showing top 20 rows\n",
      "\n"
     ]
    }
   ],
   "source": [
    "from pyspark.sql.functions import col\n",
    "\n",
    "dfWithDate.where(\"CustomerId IS NOT NULL\").orderBy(\"CustomerId\")\\\n",
    "        .select(col(\"CustomerId\"), col(\"date\"), col(\"Quantity\"),\n",
    "                purchaseRank.alias(\"quantityRank\"), purchaseDenseRank.alias(\"quantityDenseRank\"), \n",
    "               maxPurchaseQuantity.alias(\"maxPurchaseQuantity\")).show()"
   ]
  },
  {
   "cell_type": "markdown",
   "metadata": {},
   "source": [
    "## 7.4 > 그룹화 셋"
   ]
  },
  {
   "cell_type": "markdown",
   "metadata": {},
   "source": [
    "- 그룹화 셋은 null에 따라 집계수준이 달라짐. null을 제거하고 사용해야함\n",
    "- 그룹화 셋(SQL), 큐브, 롤업에 똑같이 적용\n",
    "- SQL에서만 사용"
   ]
  },
  {
   "cell_type": "markdown",
   "metadata": {},
   "source": [
    "#### 1. 롤업"
   ]
  },
  {
   "cell_type": "code",
   "execution_count": 45,
   "metadata": {},
   "outputs": [],
   "source": [
    "dfNoNull = dfWithDate.drop()\n",
    "dfNoNull.createOrReplaceTempView(\"dfNoNull\")"
   ]
  },
  {
   "cell_type": "code",
   "execution_count": 46,
   "metadata": {},
   "outputs": [
    {
     "name": "stdout",
     "output_type": "stream",
     "text": [
      "+----------+--------------+--------------+\n",
      "|      Date|       Country|total_quantity|\n",
      "+----------+--------------+--------------+\n",
      "|      null|          null|       5176450|\n",
      "|2010-12-01|     Australia|           107|\n",
      "|2010-12-01|       Germany|           117|\n",
      "|2010-12-01|        France|           449|\n",
      "|2010-12-01|          EIRE|           243|\n",
      "|2010-12-01|   Netherlands|            97|\n",
      "|2010-12-01|          null|         26814|\n",
      "|2010-12-01|United Kingdom|         23949|\n",
      "|2010-12-01|        Norway|          1852|\n",
      "|2010-12-02|       Germany|           146|\n",
      "|2010-12-02|          null|         21023|\n",
      "|2010-12-02|          EIRE|             4|\n",
      "|2010-12-02|United Kingdom|         20873|\n",
      "|2010-12-03|       Belgium|           528|\n",
      "|2010-12-03|        Poland|           140|\n",
      "|2010-12-03|       Germany|           170|\n",
      "|2010-12-03|         Spain|           400|\n",
      "|2010-12-03|        France|           239|\n",
      "|2010-12-03|          null|         14830|\n",
      "|2010-12-03|   Switzerland|           110|\n",
      "+----------+--------------+--------------+\n",
      "only showing top 20 rows\n",
      "\n"
     ]
    }
   ],
   "source": [
    "rolledUpDF = dfNoNull.rollup(\"Date\", \"Country\").agg(sum(\"Quantity\"))\\\n",
    "                    .selectExpr(\"Date\", \"Country\", \"`sum(Quantity)` as total_quantity\")\\\n",
    "                    .orderBy(\"Date\")\n",
    "rolledUpDF.show()\n",
    "# null : 전체 날짜의 합계"
   ]
  },
  {
   "cell_type": "markdown",
   "metadata": {},
   "source": [
    "#### 2. 큐브"
   ]
  },
  {
   "cell_type": "code",
   "execution_count": 49,
   "metadata": {},
   "outputs": [
    {
     "name": "stdout",
     "output_type": "stream",
     "text": [
      "+----+--------------------+-------------+\n",
      "|Date|             Country|sum(Quantity)|\n",
      "+----+--------------------+-------------+\n",
      "|null|               Japan|        25218|\n",
      "|null|           Australia|        83653|\n",
      "|null|            Portugal|        16180|\n",
      "|null|             Germany|       117448|\n",
      "|null|                null|      5176450|\n",
      "|null|             Finland|        10666|\n",
      "|null|              Cyprus|         6317|\n",
      "|null|             Lebanon|          386|\n",
      "|null|                 USA|         1034|\n",
      "|null|                 RSA|          352|\n",
      "|null|           Singapore|         5234|\n",
      "|null|           Hong Kong|         4769|\n",
      "|null|United Arab Emirates|          982|\n",
      "|null|  European Community|          497|\n",
      "|null|               Spain|        26824|\n",
      "|null|         Unspecified|         3300|\n",
      "|null|     Channel Islands|         9479|\n",
      "|null|             Denmark|         8188|\n",
      "|null|              Norway|        19247|\n",
      "|null|      Czech Republic|          592|\n",
      "+----+--------------------+-------------+\n",
      "only showing top 20 rows\n",
      "\n"
     ]
    }
   ],
   "source": [
    "from pyspark.sql.functions import sum\n",
    "\n",
    "dfNoNull.cube(\"Date\", \"Country\").agg(sum(col(\"Quantity\")))\\\n",
    "    .select(\"Date\", \"Country\", \"sum(Quantity)\").orderBy(\"Date\").show()"
   ]
  },
  {
   "cell_type": "markdown",
   "metadata": {},
   "source": [
    "#### 3. 그룹화 메타데이터"
   ]
  },
  {
   "cell_type": "code",
   "execution_count": 52,
   "metadata": {},
   "outputs": [],
   "source": [
    "from pyspark.sql.functions import grouping_id, sum, expr\n",
    "\n",
    "# dfNoNull.cube(\"customerId\", \"StockCode\").agg(grouping_id(), sum(\"Quantity\"))\\\n",
    "# .orderBy(col(\"grouping_id()\").desc).show()"
   ]
  },
  {
   "cell_type": "markdown",
   "metadata": {},
   "source": [
    "#### 4. 피벗"
   ]
  },
  {
   "cell_type": "code",
   "execution_count": 55,
   "metadata": {},
   "outputs": [
    {
     "ename": "AnalysisException",
     "evalue": "\"cannot resolve '`2011-12-05`' given input columns: [Sweden_sum(CAST(Quantity AS BIGINT)), Greece_sum(UnitPrice), France_sum(CAST(CustomerID AS BIGINT)), Germany_sum(CAST(Quantity AS BIGINT)), Lebanon_sum(CAST(Quantity AS BIGINT)), Belgium_sum(CAST(Quantity AS BIGINT)), Italy_sum(CAST(CustomerID AS BIGINT)), Sweden_sum(CAST(CustomerID AS BIGINT)), Czech Republic_sum(CAST(Quantity AS BIGINT)), Poland_sum(UnitPrice), European Community_sum(UnitPrice), Singapore_sum(UnitPrice), Belgium_sum(CAST(CustomerID AS BIGINT)), Lithuania_sum(CAST(Quantity AS BIGINT)), Bahrain_sum(CAST(CustomerID AS BIGINT)), Netherlands_sum(CAST(CustomerID AS BIGINT)), Canada_sum(UnitPrice), RSA_sum(UnitPrice), France_sum(CAST(Quantity AS BIGINT)), Cyprus_sum(CAST(Quantity AS BIGINT)), United Arab Emirates_sum(CAST(Quantity AS BIGINT)), Lebanon_sum(UnitPrice), Spain_sum(CAST(Quantity AS BIGINT)), Japan_sum(CAST(Quantity AS BIGINT)), Iceland_sum(UnitPrice), Cyprus_sum(CAST(CustomerID AS BIGINT)), Germany_sum(UnitPrice), Australia_sum(CAST(CustomerID AS BIGINT)), Sweden_sum(UnitPrice), Australia_sum(UnitPrice), Saudi Arabia_sum(CAST(Quantity AS BIGINT)), Canada_sum(CAST(Quantity AS BIGINT)), Denmark_sum(CAST(Quantity AS BIGINT)), Greece_sum(CAST(CustomerID AS BIGINT)), Iceland_sum(CAST(Quantity AS BIGINT)), Switzerland_sum(UnitPrice), Cyprus_sum(UnitPrice), Czech Republic_sum(CAST(CustomerID AS BIGINT)), Poland_sum(CAST(CustomerID AS BIGINT)), Spain_sum(CAST(CustomerID AS BIGINT)), EIRE_sum(CAST(CustomerID AS BIGINT)), Brazil_sum(CAST(CustomerID AS BIGINT)), Switzerland_sum(CAST(Quantity AS BIGINT)), Malta_sum(UnitPrice), United Kingdom_sum(CAST(Quantity AS BIGINT)), Channel Islands_sum(CAST(Quantity AS BIGINT)), Canada_sum(CAST(CustomerID AS BIGINT)), Denmark_sum(UnitPrice), Unspecified_sum(CAST(CustomerID AS BIGINT)), Channel Islands_sum(CAST(CustomerID AS BIGINT)), Lebanon_sum(CAST(CustomerID AS BIGINT)), Portugal_sum(CAST(Quantity AS BIGINT)), Netherlands_sum(CAST(Quantity AS BIGINT)), RSA_sum(CAST(Quantity AS BIGINT)), Hong Kong_sum(UnitPrice), Japan_sum(CAST(CustomerID AS BIGINT)), Portugal_sum(CAST(CustomerID AS BIGINT)), Finland_sum(UnitPrice), Saudi Arabia_sum(CAST(CustomerID AS BIGINT)), Finland_sum(CAST(Quantity AS BIGINT)), Unspecified_sum(CAST(Quantity AS BIGINT)), Czech Republic_sum(UnitPrice), Israel_sum(CAST(Quantity AS BIGINT)), Bahrain_sum(UnitPrice), Channel Islands_sum(UnitPrice), Saudi Arabia_sum(UnitPrice), Singapore_sum(CAST(Quantity AS BIGINT)), Brazil_sum(CAST(Quantity AS BIGINT)), USA_sum(CAST(CustomerID AS BIGINT)), Norway_sum(CAST(Quantity AS BIGINT)), Australia_sum(CAST(Quantity AS BIGINT)), Lithuania_sum(CAST(CustomerID AS BIGINT)), European Community_sum(CAST(Quantity AS BIGINT)), Norway_sum(CAST(CustomerID AS BIGINT)), Israel_sum(UnitPrice), USA_sum(CAST(Quantity AS BIGINT)), EIRE_sum(UnitPrice), date, Lithuania_sum(UnitPrice), Brazil_sum(UnitPrice), Malta_sum(CAST(CustomerID AS BIGINT)), United Arab Emirates_sum(CAST(CustomerID AS BIGINT)), Austria_sum(CAST(CustomerID AS BIGINT)), Italy_sum(CAST(Quantity AS BIGINT)), EIRE_sum(CAST(Quantity AS BIGINT)), Norway_sum(UnitPrice), Portugal_sum(UnitPrice), United Kingdom_sum(CAST(CustomerID AS BIGINT)), United Kingdom_sum(UnitPrice), Singapore_sum(CAST(CustomerID AS BIGINT)), Iceland_sum(CAST(CustomerID AS BIGINT)), Hong Kong_sum(CAST(Quantity AS BIGINT)), USA_sum(UnitPrice), Austria_sum(CAST(Quantity AS BIGINT)), Belgium_sum(UnitPrice), France_sum(UnitPrice), European Community_sum(CAST(CustomerID AS BIGINT)), Spain_sum(UnitPrice), Bahrain_sum(CAST(Quantity AS BIGINT)), Unspecified_sum(UnitPrice), Austria_sum(UnitPrice), Italy_sum(UnitPrice), Greece_sum(CAST(Quantity AS BIGINT)), Poland_sum(CAST(Quantity AS BIGINT)), Netherlands_sum(UnitPrice), RSA_sum(CAST(CustomerID AS BIGINT)), Germany_sum(CAST(CustomerID AS BIGINT)), Switzerland_sum(CAST(CustomerID AS BIGINT)), United Arab Emirates_sum(UnitPrice), Denmark_sum(CAST(CustomerID AS BIGINT)), Israel_sum(CAST(CustomerID AS BIGINT)), Hong Kong_sum(CAST(CustomerID AS BIGINT)), Japan_sum(UnitPrice), Malta_sum(CAST(Quantity AS BIGINT)), Finland_sum(CAST(CustomerID AS BIGINT))]; line 1 pos 7;\\n'Filter (date#2054 > '2011-12-05)\\n+- Project [date#2054, __pivot_sum(CAST(`Quantity` AS BIGINT)) AS `sum(CAST(``Quantity`` AS BIGINT))`#3994[0] AS Australia_sum(CAST(Quantity AS BIGINT))#4151L, __pivot_sum(`UnitPrice`) AS `sum(``UnitPrice``)`#4072[0] AS Australia_sum(UnitPrice)#4152, __pivot_sum(CAST(`CustomerID` AS BIGINT)) AS `sum(CAST(``CustomerID`` AS BIGINT))`#4150[0] AS Australia_sum(CAST(CustomerID AS BIGINT))#4153L, __pivot_sum(CAST(`Quantity` AS BIGINT)) AS `sum(CAST(``Quantity`` AS BIGINT))`#3994[1] AS Austria_sum(CAST(Quantity AS BIGINT))#4154L, __pivot_sum(`UnitPrice`) AS `sum(``UnitPrice``)`#4072[1] AS Austria_sum(UnitPrice)#4155, __pivot_sum(CAST(`CustomerID` AS BIGINT)) AS `sum(CAST(``CustomerID`` AS BIGINT))`#4150[1] AS Austria_sum(CAST(CustomerID AS BIGINT))#4156L, __pivot_sum(CAST(`Quantity` AS BIGINT)) AS `sum(CAST(``Quantity`` AS BIGINT))`#3994[2] AS Bahrain_sum(CAST(Quantity AS BIGINT))#4157L, __pivot_sum(`UnitPrice`) AS `sum(``UnitPrice``)`#4072[2] AS Bahrain_sum(UnitPrice)#4158, __pivot_sum(CAST(`CustomerID` AS BIGINT)) AS `sum(CAST(``CustomerID`` AS BIGINT))`#4150[2] AS Bahrain_sum(CAST(CustomerID AS BIGINT))#4159L, __pivot_sum(CAST(`Quantity` AS BIGINT)) AS `sum(CAST(``Quantity`` AS BIGINT))`#3994[3] AS Belgium_sum(CAST(Quantity AS BIGINT))#4160L, __pivot_sum(`UnitPrice`) AS `sum(``UnitPrice``)`#4072[3] AS Belgium_sum(UnitPrice)#4161, __pivot_sum(CAST(`CustomerID` AS BIGINT)) AS `sum(CAST(``CustomerID`` AS BIGINT))`#4150[3] AS Belgium_sum(CAST(CustomerID AS BIGINT))#4162L, __pivot_sum(CAST(`Quantity` AS BIGINT)) AS `sum(CAST(``Quantity`` AS BIGINT))`#3994[4] AS Brazil_sum(CAST(Quantity AS BIGINT))#4163L, __pivot_sum(`UnitPrice`) AS `sum(``UnitPrice``)`#4072[4] AS Brazil_sum(UnitPrice)#4164, __pivot_sum(CAST(`CustomerID` AS BIGINT)) AS `sum(CAST(``CustomerID`` AS BIGINT))`#4150[4] AS Brazil_sum(CAST(CustomerID AS BIGINT))#4165L, __pivot_sum(CAST(`Quantity` AS BIGINT)) AS `sum(CAST(``Quantity`` AS BIGINT))`#3994[5] AS Canada_sum(CAST(Quantity AS BIGINT))#4166L, __pivot_sum(`UnitPrice`) AS `sum(``UnitPrice``)`#4072[5] AS Canada_sum(UnitPrice)#4167, __pivot_sum(CAST(`CustomerID` AS BIGINT)) AS `sum(CAST(``CustomerID`` AS BIGINT))`#4150[5] AS Canada_sum(CAST(CustomerID AS BIGINT))#4168L, __pivot_sum(CAST(`Quantity` AS BIGINT)) AS `sum(CAST(``Quantity`` AS BIGINT))`#3994[6] AS Channel Islands_sum(CAST(Quantity AS BIGINT))#4169L, __pivot_sum(`UnitPrice`) AS `sum(``UnitPrice``)`#4072[6] AS Channel Islands_sum(UnitPrice)#4170, __pivot_sum(CAST(`CustomerID` AS BIGINT)) AS `sum(CAST(``CustomerID`` AS BIGINT))`#4150[6] AS Channel Islands_sum(CAST(CustomerID AS BIGINT))#4171L, __pivot_sum(CAST(`Quantity` AS BIGINT)) AS `sum(CAST(``Quantity`` AS BIGINT))`#3994[7] AS Cyprus_sum(CAST(Quantity AS BIGINT))#4172L, __pivot_sum(`UnitPrice`) AS `sum(``UnitPrice``)`#4072[7] AS Cyprus_sum(UnitPrice)#4173, ... 91 more fields]\\n   +- Aggregate [date#2054], [date#2054, pivotfirst(Country#17, sum(CAST(`Quantity` AS BIGINT))#3914L, Australia, Austria, Bahrain, Belgium, Brazil, Canada, Channel Islands, Cyprus, Czech Republic, Denmark, EIRE, European Community, Finland, France, Germany, Greece, Hong Kong, Iceland, Israel, Italy, Japan, Lebanon, Lithuania, Malta, Netherlands, Norway, Poland, Portugal, RSA, Saudi Arabia, Singapore, Spain, Sweden, Switzerland, USA, United Arab Emirates, United Kingdom, Unspecified, 0, 0) AS __pivot_sum(CAST(`Quantity` AS BIGINT)) AS `sum(CAST(``Quantity`` AS BIGINT))`#3994, pivotfirst(Country#17, sum(`UnitPrice`)#3915, Australia, Austria, Bahrain, Belgium, Brazil, Canada, Channel Islands, Cyprus, Czech Republic, Denmark, EIRE, European Community, Finland, France, Germany, Greece, Hong Kong, Iceland, Israel, Italy, Japan, Lebanon, Lithuania, Malta, Netherlands, Norway, Poland, Portugal, RSA, Saudi Arabia, Singapore, Spain, Sweden, Switzerland, USA, United Arab Emirates, United Kingdom, Unspecified, 0, 0) AS __pivot_sum(`UnitPrice`) AS `sum(``UnitPrice``)`#4072, pivotfirst(Country#17, sum(CAST(`CustomerID` AS BIGINT))#3916L, Australia, Austria, Bahrain, Belgium, Brazil, Canada, Channel Islands, Cyprus, Czech Republic, Denmark, EIRE, European Community, Finland, France, Germany, Greece, Hong Kong, Iceland, Israel, Italy, Japan, Lebanon, Lithuania, Malta, Netherlands, Norway, Poland, Portugal, RSA, Saudi Arabia, Singapore, Spain, Sweden, Switzerland, USA, United Arab Emirates, United Kingdom, Unspecified, 0, 0) AS __pivot_sum(CAST(`CustomerID` AS BIGINT)) AS `sum(CAST(``CustomerID`` AS BIGINT))`#4150]\\n      +- Aggregate [date#2054, Country#17], [date#2054, Country#17, sum(cast(Quantity#13 as bigint)) AS sum(CAST(`Quantity` AS BIGINT))#3914L, sum(UnitPrice#15) AS sum(`UnitPrice`)#3915, sum(cast(CustomerID#16 as bigint)) AS sum(CAST(`CustomerID` AS BIGINT))#3916L]\\n         +- Project [InvoiceNo#10, StockCode#11, Description#12, Quantity#13, InvoiceDate#14, UnitPrice#15, CustomerID#16, Country#17, to_date('InvoiceDate, Some(MM/d/yyyy H:mm)) AS date#2054]\\n            +- Repartition 5, false\\n               +- Relation[InvoiceNo#10,StockCode#11,Description#12,Quantity#13,InvoiceDate#14,UnitPrice#15,CustomerID#16,Country#17] csv\\n\"",
     "output_type": "error",
     "traceback": [
      "\u001b[0;31m----------------------------------------------------------------\u001b[0m",
      "\u001b[0;31mPy4JJavaError\u001b[0m                  Traceback (most recent call last)",
      "\u001b[0;32m~/spark/python/pyspark/sql/utils.py\u001b[0m in \u001b[0;36mdeco\u001b[0;34m(*a, **kw)\u001b[0m\n\u001b[1;32m     62\u001b[0m         \u001b[0;32mtry\u001b[0m\u001b[0;34m:\u001b[0m\u001b[0;34m\u001b[0m\u001b[0m\n\u001b[0;32m---> 63\u001b[0;31m             \u001b[0;32mreturn\u001b[0m \u001b[0mf\u001b[0m\u001b[0;34m(\u001b[0m\u001b[0;34m*\u001b[0m\u001b[0ma\u001b[0m\u001b[0;34m,\u001b[0m \u001b[0;34m**\u001b[0m\u001b[0mkw\u001b[0m\u001b[0;34m)\u001b[0m\u001b[0;34m\u001b[0m\u001b[0m\n\u001b[0m\u001b[1;32m     64\u001b[0m         \u001b[0;32mexcept\u001b[0m \u001b[0mpy4j\u001b[0m\u001b[0;34m.\u001b[0m\u001b[0mprotocol\u001b[0m\u001b[0;34m.\u001b[0m\u001b[0mPy4JJavaError\u001b[0m \u001b[0;32mas\u001b[0m \u001b[0me\u001b[0m\u001b[0;34m:\u001b[0m\u001b[0;34m\u001b[0m\u001b[0m\n",
      "\u001b[0;32m~/spark/python/lib/py4j-0.10.7-src.zip/py4j/protocol.py\u001b[0m in \u001b[0;36mget_return_value\u001b[0;34m(answer, gateway_client, target_id, name)\u001b[0m\n\u001b[1;32m    327\u001b[0m                     \u001b[0;34m\"An error occurred while calling {0}{1}{2}.\\n\"\u001b[0m\u001b[0;34m.\u001b[0m\u001b[0;34m\u001b[0m\u001b[0m\n\u001b[0;32m--> 328\u001b[0;31m                     format(target_id, \".\", name), value)\n\u001b[0m\u001b[1;32m    329\u001b[0m             \u001b[0;32melse\u001b[0m\u001b[0;34m:\u001b[0m\u001b[0;34m\u001b[0m\u001b[0m\n",
      "\u001b[0;31mPy4JJavaError\u001b[0m: An error occurred while calling o720.filter.\n: org.apache.spark.sql.AnalysisException: cannot resolve '`2011-12-05`' given input columns: [Sweden_sum(CAST(Quantity AS BIGINT)), Greece_sum(UnitPrice), France_sum(CAST(CustomerID AS BIGINT)), Germany_sum(CAST(Quantity AS BIGINT)), Lebanon_sum(CAST(Quantity AS BIGINT)), Belgium_sum(CAST(Quantity AS BIGINT)), Italy_sum(CAST(CustomerID AS BIGINT)), Sweden_sum(CAST(CustomerID AS BIGINT)), Czech Republic_sum(CAST(Quantity AS BIGINT)), Poland_sum(UnitPrice), European Community_sum(UnitPrice), Singapore_sum(UnitPrice), Belgium_sum(CAST(CustomerID AS BIGINT)), Lithuania_sum(CAST(Quantity AS BIGINT)), Bahrain_sum(CAST(CustomerID AS BIGINT)), Netherlands_sum(CAST(CustomerID AS BIGINT)), Canada_sum(UnitPrice), RSA_sum(UnitPrice), France_sum(CAST(Quantity AS BIGINT)), Cyprus_sum(CAST(Quantity AS BIGINT)), United Arab Emirates_sum(CAST(Quantity AS BIGINT)), Lebanon_sum(UnitPrice), Spain_sum(CAST(Quantity AS BIGINT)), Japan_sum(CAST(Quantity AS BIGINT)), Iceland_sum(UnitPrice), Cyprus_sum(CAST(CustomerID AS BIGINT)), Germany_sum(UnitPrice), Australia_sum(CAST(CustomerID AS BIGINT)), Sweden_sum(UnitPrice), Australia_sum(UnitPrice), Saudi Arabia_sum(CAST(Quantity AS BIGINT)), Canada_sum(CAST(Quantity AS BIGINT)), Denmark_sum(CAST(Quantity AS BIGINT)), Greece_sum(CAST(CustomerID AS BIGINT)), Iceland_sum(CAST(Quantity AS BIGINT)), Switzerland_sum(UnitPrice), Cyprus_sum(UnitPrice), Czech Republic_sum(CAST(CustomerID AS BIGINT)), Poland_sum(CAST(CustomerID AS BIGINT)), Spain_sum(CAST(CustomerID AS BIGINT)), EIRE_sum(CAST(CustomerID AS BIGINT)), Brazil_sum(CAST(CustomerID AS BIGINT)), Switzerland_sum(CAST(Quantity AS BIGINT)), Malta_sum(UnitPrice), United Kingdom_sum(CAST(Quantity AS BIGINT)), Channel Islands_sum(CAST(Quantity AS BIGINT)), Canada_sum(CAST(CustomerID AS BIGINT)), Denmark_sum(UnitPrice), Unspecified_sum(CAST(CustomerID AS BIGINT)), Channel Islands_sum(CAST(CustomerID AS BIGINT)), Lebanon_sum(CAST(CustomerID AS BIGINT)), Portugal_sum(CAST(Quantity AS BIGINT)), Netherlands_sum(CAST(Quantity AS BIGINT)), RSA_sum(CAST(Quantity AS BIGINT)), Hong Kong_sum(UnitPrice), Japan_sum(CAST(CustomerID AS BIGINT)), Portugal_sum(CAST(CustomerID AS BIGINT)), Finland_sum(UnitPrice), Saudi Arabia_sum(CAST(CustomerID AS BIGINT)), Finland_sum(CAST(Quantity AS BIGINT)), Unspecified_sum(CAST(Quantity AS BIGINT)), Czech Republic_sum(UnitPrice), Israel_sum(CAST(Quantity AS BIGINT)), Bahrain_sum(UnitPrice), Channel Islands_sum(UnitPrice), Saudi Arabia_sum(UnitPrice), Singapore_sum(CAST(Quantity AS BIGINT)), Brazil_sum(CAST(Quantity AS BIGINT)), USA_sum(CAST(CustomerID AS BIGINT)), Norway_sum(CAST(Quantity AS BIGINT)), Australia_sum(CAST(Quantity AS BIGINT)), Lithuania_sum(CAST(CustomerID AS BIGINT)), European Community_sum(CAST(Quantity AS BIGINT)), Norway_sum(CAST(CustomerID AS BIGINT)), Israel_sum(UnitPrice), USA_sum(CAST(Quantity AS BIGINT)), EIRE_sum(UnitPrice), date, Lithuania_sum(UnitPrice), Brazil_sum(UnitPrice), Malta_sum(CAST(CustomerID AS BIGINT)), United Arab Emirates_sum(CAST(CustomerID AS BIGINT)), Austria_sum(CAST(CustomerID AS BIGINT)), Italy_sum(CAST(Quantity AS BIGINT)), EIRE_sum(CAST(Quantity AS BIGINT)), Norway_sum(UnitPrice), Portugal_sum(UnitPrice), United Kingdom_sum(CAST(CustomerID AS BIGINT)), United Kingdom_sum(UnitPrice), Singapore_sum(CAST(CustomerID AS BIGINT)), Iceland_sum(CAST(CustomerID AS BIGINT)), Hong Kong_sum(CAST(Quantity AS BIGINT)), USA_sum(UnitPrice), Austria_sum(CAST(Quantity AS BIGINT)), Belgium_sum(UnitPrice), France_sum(UnitPrice), European Community_sum(CAST(CustomerID AS BIGINT)), Spain_sum(UnitPrice), Bahrain_sum(CAST(Quantity AS BIGINT)), Unspecified_sum(UnitPrice), Austria_sum(UnitPrice), Italy_sum(UnitPrice), Greece_sum(CAST(Quantity AS BIGINT)), Poland_sum(CAST(Quantity AS BIGINT)), Netherlands_sum(UnitPrice), RSA_sum(CAST(CustomerID AS BIGINT)), Germany_sum(CAST(CustomerID AS BIGINT)), Switzerland_sum(CAST(CustomerID AS BIGINT)), United Arab Emirates_sum(UnitPrice), Denmark_sum(CAST(CustomerID AS BIGINT)), Israel_sum(CAST(CustomerID AS BIGINT)), Hong Kong_sum(CAST(CustomerID AS BIGINT)), Japan_sum(UnitPrice), Malta_sum(CAST(Quantity AS BIGINT)), Finland_sum(CAST(CustomerID AS BIGINT))]; line 1 pos 7;\n'Filter (date#2054 > '2011-12-05)\n+- Project [date#2054, __pivot_sum(CAST(`Quantity` AS BIGINT)) AS `sum(CAST(``Quantity`` AS BIGINT))`#3994[0] AS Australia_sum(CAST(Quantity AS BIGINT))#4151L, __pivot_sum(`UnitPrice`) AS `sum(``UnitPrice``)`#4072[0] AS Australia_sum(UnitPrice)#4152, __pivot_sum(CAST(`CustomerID` AS BIGINT)) AS `sum(CAST(``CustomerID`` AS BIGINT))`#4150[0] AS Australia_sum(CAST(CustomerID AS BIGINT))#4153L, __pivot_sum(CAST(`Quantity` AS BIGINT)) AS `sum(CAST(``Quantity`` AS BIGINT))`#3994[1] AS Austria_sum(CAST(Quantity AS BIGINT))#4154L, __pivot_sum(`UnitPrice`) AS `sum(``UnitPrice``)`#4072[1] AS Austria_sum(UnitPrice)#4155, __pivot_sum(CAST(`CustomerID` AS BIGINT)) AS `sum(CAST(``CustomerID`` AS BIGINT))`#4150[1] AS Austria_sum(CAST(CustomerID AS BIGINT))#4156L, __pivot_sum(CAST(`Quantity` AS BIGINT)) AS `sum(CAST(``Quantity`` AS BIGINT))`#3994[2] AS Bahrain_sum(CAST(Quantity AS BIGINT))#4157L, __pivot_sum(`UnitPrice`) AS `sum(``UnitPrice``)`#4072[2] AS Bahrain_sum(UnitPrice)#4158, __pivot_sum(CAST(`CustomerID` AS BIGINT)) AS `sum(CAST(``CustomerID`` AS BIGINT))`#4150[2] AS Bahrain_sum(CAST(CustomerID AS BIGINT))#4159L, __pivot_sum(CAST(`Quantity` AS BIGINT)) AS `sum(CAST(``Quantity`` AS BIGINT))`#3994[3] AS Belgium_sum(CAST(Quantity AS BIGINT))#4160L, __pivot_sum(`UnitPrice`) AS `sum(``UnitPrice``)`#4072[3] AS Belgium_sum(UnitPrice)#4161, __pivot_sum(CAST(`CustomerID` AS BIGINT)) AS `sum(CAST(``CustomerID`` AS BIGINT))`#4150[3] AS Belgium_sum(CAST(CustomerID AS BIGINT))#4162L, __pivot_sum(CAST(`Quantity` AS BIGINT)) AS `sum(CAST(``Quantity`` AS BIGINT))`#3994[4] AS Brazil_sum(CAST(Quantity AS BIGINT))#4163L, __pivot_sum(`UnitPrice`) AS `sum(``UnitPrice``)`#4072[4] AS Brazil_sum(UnitPrice)#4164, __pivot_sum(CAST(`CustomerID` AS BIGINT)) AS `sum(CAST(``CustomerID`` AS BIGINT))`#4150[4] AS Brazil_sum(CAST(CustomerID AS BIGINT))#4165L, __pivot_sum(CAST(`Quantity` AS BIGINT)) AS `sum(CAST(``Quantity`` AS BIGINT))`#3994[5] AS Canada_sum(CAST(Quantity AS BIGINT))#4166L, __pivot_sum(`UnitPrice`) AS `sum(``UnitPrice``)`#4072[5] AS Canada_sum(UnitPrice)#4167, __pivot_sum(CAST(`CustomerID` AS BIGINT)) AS `sum(CAST(``CustomerID`` AS BIGINT))`#4150[5] AS Canada_sum(CAST(CustomerID AS BIGINT))#4168L, __pivot_sum(CAST(`Quantity` AS BIGINT)) AS `sum(CAST(``Quantity`` AS BIGINT))`#3994[6] AS Channel Islands_sum(CAST(Quantity AS BIGINT))#4169L, __pivot_sum(`UnitPrice`) AS `sum(``UnitPrice``)`#4072[6] AS Channel Islands_sum(UnitPrice)#4170, __pivot_sum(CAST(`CustomerID` AS BIGINT)) AS `sum(CAST(``CustomerID`` AS BIGINT))`#4150[6] AS Channel Islands_sum(CAST(CustomerID AS BIGINT))#4171L, __pivot_sum(CAST(`Quantity` AS BIGINT)) AS `sum(CAST(``Quantity`` AS BIGINT))`#3994[7] AS Cyprus_sum(CAST(Quantity AS BIGINT))#4172L, __pivot_sum(`UnitPrice`) AS `sum(``UnitPrice``)`#4072[7] AS Cyprus_sum(UnitPrice)#4173, ... 91 more fields]\n   +- Aggregate [date#2054], [date#2054, pivotfirst(Country#17, sum(CAST(`Quantity` AS BIGINT))#3914L, Australia, Austria, Bahrain, Belgium, Brazil, Canada, Channel Islands, Cyprus, Czech Republic, Denmark, EIRE, European Community, Finland, France, Germany, Greece, Hong Kong, Iceland, Israel, Italy, Japan, Lebanon, Lithuania, Malta, Netherlands, Norway, Poland, Portugal, RSA, Saudi Arabia, Singapore, Spain, Sweden, Switzerland, USA, United Arab Emirates, United Kingdom, Unspecified, 0, 0) AS __pivot_sum(CAST(`Quantity` AS BIGINT)) AS `sum(CAST(``Quantity`` AS BIGINT))`#3994, pivotfirst(Country#17, sum(`UnitPrice`)#3915, Australia, Austria, Bahrain, Belgium, Brazil, Canada, Channel Islands, Cyprus, Czech Republic, Denmark, EIRE, European Community, Finland, France, Germany, Greece, Hong Kong, Iceland, Israel, Italy, Japan, Lebanon, Lithuania, Malta, Netherlands, Norway, Poland, Portugal, RSA, Saudi Arabia, Singapore, Spain, Sweden, Switzerland, USA, United Arab Emirates, United Kingdom, Unspecified, 0, 0) AS __pivot_sum(`UnitPrice`) AS `sum(``UnitPrice``)`#4072, pivotfirst(Country#17, sum(CAST(`CustomerID` AS BIGINT))#3916L, Australia, Austria, Bahrain, Belgium, Brazil, Canada, Channel Islands, Cyprus, Czech Republic, Denmark, EIRE, European Community, Finland, France, Germany, Greece, Hong Kong, Iceland, Israel, Italy, Japan, Lebanon, Lithuania, Malta, Netherlands, Norway, Poland, Portugal, RSA, Saudi Arabia, Singapore, Spain, Sweden, Switzerland, USA, United Arab Emirates, United Kingdom, Unspecified, 0, 0) AS __pivot_sum(CAST(`CustomerID` AS BIGINT)) AS `sum(CAST(``CustomerID`` AS BIGINT))`#4150]\n      +- Aggregate [date#2054, Country#17], [date#2054, Country#17, sum(cast(Quantity#13 as bigint)) AS sum(CAST(`Quantity` AS BIGINT))#3914L, sum(UnitPrice#15) AS sum(`UnitPrice`)#3915, sum(cast(CustomerID#16 as bigint)) AS sum(CAST(`CustomerID` AS BIGINT))#3916L]\n         +- Project [InvoiceNo#10, StockCode#11, Description#12, Quantity#13, InvoiceDate#14, UnitPrice#15, CustomerID#16, Country#17, to_date('InvoiceDate, Some(MM/d/yyyy H:mm)) AS date#2054]\n            +- Repartition 5, false\n               +- Relation[InvoiceNo#10,StockCode#11,Description#12,Quantity#13,InvoiceDate#14,UnitPrice#15,CustomerID#16,Country#17] csv\n\n\tat org.apache.spark.sql.catalyst.analysis.package$AnalysisErrorAt.failAnalysis(package.scala:42)\n\tat org.apache.spark.sql.catalyst.analysis.CheckAnalysis$$anonfun$checkAnalysis$1$$anonfun$apply$2.applyOrElse(CheckAnalysis.scala:93)\n\tat org.apache.spark.sql.catalyst.analysis.CheckAnalysis$$anonfun$checkAnalysis$1$$anonfun$apply$2.applyOrElse(CheckAnalysis.scala:90)\n\tat org.apache.spark.sql.catalyst.trees.TreeNode$$anonfun$transformUp$1.apply(TreeNode.scala:289)\n\tat org.apache.spark.sql.catalyst.trees.TreeNode$$anonfun$transformUp$1.apply(TreeNode.scala:289)\n\tat org.apache.spark.sql.catalyst.trees.CurrentOrigin$.withOrigin(TreeNode.scala:70)\n\tat org.apache.spark.sql.catalyst.trees.TreeNode.transformUp(TreeNode.scala:288)\n\tat org.apache.spark.sql.catalyst.trees.TreeNode$$anonfun$3.apply(TreeNode.scala:286)\n\tat org.apache.spark.sql.catalyst.trees.TreeNode$$anonfun$3.apply(TreeNode.scala:286)\n\tat org.apache.spark.sql.catalyst.trees.TreeNode$$anonfun$4.apply(TreeNode.scala:306)\n\tat org.apache.spark.sql.catalyst.trees.TreeNode.mapProductIterator(TreeNode.scala:187)\n\tat org.apache.spark.sql.catalyst.trees.TreeNode.mapChildren(TreeNode.scala:304)\n\tat org.apache.spark.sql.catalyst.trees.TreeNode.transformUp(TreeNode.scala:286)\n\tat org.apache.spark.sql.catalyst.plans.QueryPlan$$anonfun$transformExpressionsUp$1.apply(QueryPlan.scala:95)\n\tat org.apache.spark.sql.catalyst.plans.QueryPlan$$anonfun$transformExpressionsUp$1.apply(QueryPlan.scala:95)\n\tat org.apache.spark.sql.catalyst.plans.QueryPlan$$anonfun$1.apply(QueryPlan.scala:107)\n\tat org.apache.spark.sql.catalyst.plans.QueryPlan$$anonfun$1.apply(QueryPlan.scala:107)\n\tat org.apache.spark.sql.catalyst.trees.CurrentOrigin$.withOrigin(TreeNode.scala:70)\n\tat org.apache.spark.sql.catalyst.plans.QueryPlan.transformExpression$1(QueryPlan.scala:106)\n\tat org.apache.spark.sql.catalyst.plans.QueryPlan.org$apache$spark$sql$catalyst$plans$QueryPlan$$recursiveTransform$1(QueryPlan.scala:118)\n\tat org.apache.spark.sql.catalyst.plans.QueryPlan$$anonfun$2.apply(QueryPlan.scala:127)\n\tat org.apache.spark.sql.catalyst.trees.TreeNode.mapProductIterator(TreeNode.scala:187)\n\tat org.apache.spark.sql.catalyst.plans.QueryPlan.mapExpressions(QueryPlan.scala:127)\n\tat org.apache.spark.sql.catalyst.plans.QueryPlan.transformExpressionsUp(QueryPlan.scala:95)\n\tat org.apache.spark.sql.catalyst.analysis.CheckAnalysis$$anonfun$checkAnalysis$1.apply(CheckAnalysis.scala:90)\n\tat org.apache.spark.sql.catalyst.analysis.CheckAnalysis$$anonfun$checkAnalysis$1.apply(CheckAnalysis.scala:85)\n\tat org.apache.spark.sql.catalyst.trees.TreeNode.foreachUp(TreeNode.scala:127)\n\tat org.apache.spark.sql.catalyst.analysis.CheckAnalysis$class.checkAnalysis(CheckAnalysis.scala:85)\n\tat org.apache.spark.sql.catalyst.analysis.Analyzer.checkAnalysis(Analyzer.scala:92)\n\tat org.apache.spark.sql.catalyst.analysis.Analyzer.executeAndCheck(Analyzer.scala:105)\n\tat org.apache.spark.sql.execution.QueryExecution.analyzed$lzycompute(QueryExecution.scala:57)\n\tat org.apache.spark.sql.execution.QueryExecution.analyzed(QueryExecution.scala:55)\n\tat org.apache.spark.sql.execution.QueryExecution.assertAnalyzed(QueryExecution.scala:47)\n\tat org.apache.spark.sql.Dataset.<init>(Dataset.scala:172)\n\tat org.apache.spark.sql.Dataset.<init>(Dataset.scala:178)\n\tat org.apache.spark.sql.Dataset$.apply(Dataset.scala:65)\n\tat org.apache.spark.sql.Dataset.withTypedPlan(Dataset.scala:3312)\n\tat org.apache.spark.sql.Dataset.filter(Dataset.scala:1469)\n\tat org.apache.spark.sql.Dataset.filter(Dataset.scala:1483)\n\tat sun.reflect.NativeMethodAccessorImpl.invoke0(Native Method)\n\tat sun.reflect.NativeMethodAccessorImpl.invoke(NativeMethodAccessorImpl.java:62)\n\tat sun.reflect.DelegatingMethodAccessorImpl.invoke(DelegatingMethodAccessorImpl.java:43)\n\tat java.lang.reflect.Method.invoke(Method.java:498)\n\tat py4j.reflection.MethodInvoker.invoke(MethodInvoker.java:244)\n\tat py4j.reflection.ReflectionEngine.invoke(ReflectionEngine.java:357)\n\tat py4j.Gateway.invoke(Gateway.java:282)\n\tat py4j.commands.AbstractCommand.invokeMethod(AbstractCommand.java:132)\n\tat py4j.commands.CallCommand.execute(CallCommand.java:79)\n\tat py4j.GatewayConnection.run(GatewayConnection.java:238)\n\tat java.lang.Thread.run(Thread.java:748)\n",
      "\nDuring handling of the above exception, another exception occurred:\n",
      "\u001b[0;31mAnalysisException\u001b[0m              Traceback (most recent call last)",
      "\u001b[0;32m<ipython-input-55-4f26617ddc73>\u001b[0m in \u001b[0;36m<module>\u001b[0;34m()\u001b[0m\n\u001b[1;32m      1\u001b[0m \u001b[0mpivoted\u001b[0m \u001b[0;34m=\u001b[0m \u001b[0mdfWithDate\u001b[0m\u001b[0;34m.\u001b[0m\u001b[0mgroupBy\u001b[0m\u001b[0;34m(\u001b[0m\u001b[0;34m\"date\"\u001b[0m\u001b[0;34m)\u001b[0m\u001b[0;34m.\u001b[0m\u001b[0mpivot\u001b[0m\u001b[0;34m(\u001b[0m\u001b[0;34m\"Country\"\u001b[0m\u001b[0;34m)\u001b[0m\u001b[0;34m.\u001b[0m\u001b[0msum\u001b[0m\u001b[0;34m(\u001b[0m\u001b[0;34m)\u001b[0m\u001b[0;34m\u001b[0m\u001b[0m\n\u001b[1;32m      2\u001b[0m \u001b[0;34m\u001b[0m\u001b[0m\n\u001b[0;32m----> 3\u001b[0;31m \u001b[0mpivoted\u001b[0m\u001b[0;34m.\u001b[0m\u001b[0mwhere\u001b[0m\u001b[0;34m(\u001b[0m\u001b[0;34m\"date > `2011-12-05`\"\u001b[0m\u001b[0;34m)\u001b[0m\u001b[0;34m.\u001b[0m\u001b[0mselect\u001b[0m\u001b[0;34m(\u001b[0m\u001b[0;34m\"date\"\u001b[0m\u001b[0;34m,\u001b[0m \u001b[0;34m\"`USA_sum(Quantity)`\"\u001b[0m\u001b[0;34m)\u001b[0m\u001b[0;34m.\u001b[0m\u001b[0mshow\u001b[0m\u001b[0;34m(\u001b[0m\u001b[0;34m)\u001b[0m\u001b[0;34m\u001b[0m\u001b[0m\n\u001b[0m",
      "\u001b[0;32m~/spark/python/pyspark/sql/dataframe.py\u001b[0m in \u001b[0;36mfilter\u001b[0;34m(self, condition)\u001b[0m\n\u001b[1;32m   1238\u001b[0m         \"\"\"\n\u001b[1;32m   1239\u001b[0m         \u001b[0;32mif\u001b[0m \u001b[0misinstance\u001b[0m\u001b[0;34m(\u001b[0m\u001b[0mcondition\u001b[0m\u001b[0;34m,\u001b[0m \u001b[0mbasestring\u001b[0m\u001b[0;34m)\u001b[0m\u001b[0;34m:\u001b[0m\u001b[0;34m\u001b[0m\u001b[0m\n\u001b[0;32m-> 1240\u001b[0;31m             \u001b[0mjdf\u001b[0m \u001b[0;34m=\u001b[0m \u001b[0mself\u001b[0m\u001b[0;34m.\u001b[0m\u001b[0m_jdf\u001b[0m\u001b[0;34m.\u001b[0m\u001b[0mfilter\u001b[0m\u001b[0;34m(\u001b[0m\u001b[0mcondition\u001b[0m\u001b[0;34m)\u001b[0m\u001b[0;34m\u001b[0m\u001b[0m\n\u001b[0m\u001b[1;32m   1241\u001b[0m         \u001b[0;32melif\u001b[0m \u001b[0misinstance\u001b[0m\u001b[0;34m(\u001b[0m\u001b[0mcondition\u001b[0m\u001b[0;34m,\u001b[0m \u001b[0mColumn\u001b[0m\u001b[0;34m)\u001b[0m\u001b[0;34m:\u001b[0m\u001b[0;34m\u001b[0m\u001b[0m\n\u001b[1;32m   1242\u001b[0m             \u001b[0mjdf\u001b[0m \u001b[0;34m=\u001b[0m \u001b[0mself\u001b[0m\u001b[0;34m.\u001b[0m\u001b[0m_jdf\u001b[0m\u001b[0;34m.\u001b[0m\u001b[0mfilter\u001b[0m\u001b[0;34m(\u001b[0m\u001b[0mcondition\u001b[0m\u001b[0;34m.\u001b[0m\u001b[0m_jc\u001b[0m\u001b[0;34m)\u001b[0m\u001b[0;34m\u001b[0m\u001b[0m\n",
      "\u001b[0;32m~/spark/python/lib/py4j-0.10.7-src.zip/py4j/java_gateway.py\u001b[0m in \u001b[0;36m__call__\u001b[0;34m(self, *args)\u001b[0m\n\u001b[1;32m   1255\u001b[0m         \u001b[0manswer\u001b[0m \u001b[0;34m=\u001b[0m \u001b[0mself\u001b[0m\u001b[0;34m.\u001b[0m\u001b[0mgateway_client\u001b[0m\u001b[0;34m.\u001b[0m\u001b[0msend_command\u001b[0m\u001b[0;34m(\u001b[0m\u001b[0mcommand\u001b[0m\u001b[0;34m)\u001b[0m\u001b[0;34m\u001b[0m\u001b[0m\n\u001b[1;32m   1256\u001b[0m         return_value = get_return_value(\n\u001b[0;32m-> 1257\u001b[0;31m             answer, self.gateway_client, self.target_id, self.name)\n\u001b[0m\u001b[1;32m   1258\u001b[0m \u001b[0;34m\u001b[0m\u001b[0m\n\u001b[1;32m   1259\u001b[0m         \u001b[0;32mfor\u001b[0m \u001b[0mtemp_arg\u001b[0m \u001b[0;32min\u001b[0m \u001b[0mtemp_args\u001b[0m\u001b[0;34m:\u001b[0m\u001b[0;34m\u001b[0m\u001b[0m\n",
      "\u001b[0;32m~/spark/python/pyspark/sql/utils.py\u001b[0m in \u001b[0;36mdeco\u001b[0;34m(*a, **kw)\u001b[0m\n\u001b[1;32m     67\u001b[0m                                              e.java_exception.getStackTrace()))\n\u001b[1;32m     68\u001b[0m             \u001b[0;32mif\u001b[0m \u001b[0ms\u001b[0m\u001b[0;34m.\u001b[0m\u001b[0mstartswith\u001b[0m\u001b[0;34m(\u001b[0m\u001b[0;34m'org.apache.spark.sql.AnalysisException: '\u001b[0m\u001b[0;34m)\u001b[0m\u001b[0;34m:\u001b[0m\u001b[0;34m\u001b[0m\u001b[0m\n\u001b[0;32m---> 69\u001b[0;31m                 \u001b[0;32mraise\u001b[0m \u001b[0mAnalysisException\u001b[0m\u001b[0;34m(\u001b[0m\u001b[0ms\u001b[0m\u001b[0;34m.\u001b[0m\u001b[0msplit\u001b[0m\u001b[0;34m(\u001b[0m\u001b[0;34m': '\u001b[0m\u001b[0;34m,\u001b[0m \u001b[0;36m1\u001b[0m\u001b[0;34m)\u001b[0m\u001b[0;34m[\u001b[0m\u001b[0;36m1\u001b[0m\u001b[0;34m]\u001b[0m\u001b[0;34m,\u001b[0m \u001b[0mstackTrace\u001b[0m\u001b[0;34m)\u001b[0m\u001b[0;34m\u001b[0m\u001b[0m\n\u001b[0m\u001b[1;32m     70\u001b[0m             \u001b[0;32mif\u001b[0m \u001b[0ms\u001b[0m\u001b[0;34m.\u001b[0m\u001b[0mstartswith\u001b[0m\u001b[0;34m(\u001b[0m\u001b[0;34m'org.apache.spark.sql.catalyst.analysis'\u001b[0m\u001b[0;34m)\u001b[0m\u001b[0;34m:\u001b[0m\u001b[0;34m\u001b[0m\u001b[0m\n\u001b[1;32m     71\u001b[0m                 \u001b[0;32mraise\u001b[0m \u001b[0mAnalysisException\u001b[0m\u001b[0;34m(\u001b[0m\u001b[0ms\u001b[0m\u001b[0;34m.\u001b[0m\u001b[0msplit\u001b[0m\u001b[0;34m(\u001b[0m\u001b[0;34m': '\u001b[0m\u001b[0;34m,\u001b[0m \u001b[0;36m1\u001b[0m\u001b[0;34m)\u001b[0m\u001b[0;34m[\u001b[0m\u001b[0;36m1\u001b[0m\u001b[0;34m]\u001b[0m\u001b[0;34m,\u001b[0m \u001b[0mstackTrace\u001b[0m\u001b[0;34m)\u001b[0m\u001b[0;34m\u001b[0m\u001b[0m\n",
      "\u001b[0;31mAnalysisException\u001b[0m: \"cannot resolve '`2011-12-05`' given input columns: [Sweden_sum(CAST(Quantity AS BIGINT)), Greece_sum(UnitPrice), France_sum(CAST(CustomerID AS BIGINT)), Germany_sum(CAST(Quantity AS BIGINT)), Lebanon_sum(CAST(Quantity AS BIGINT)), Belgium_sum(CAST(Quantity AS BIGINT)), Italy_sum(CAST(CustomerID AS BIGINT)), Sweden_sum(CAST(CustomerID AS BIGINT)), Czech Republic_sum(CAST(Quantity AS BIGINT)), Poland_sum(UnitPrice), European Community_sum(UnitPrice), Singapore_sum(UnitPrice), Belgium_sum(CAST(CustomerID AS BIGINT)), Lithuania_sum(CAST(Quantity AS BIGINT)), Bahrain_sum(CAST(CustomerID AS BIGINT)), Netherlands_sum(CAST(CustomerID AS BIGINT)), Canada_sum(UnitPrice), RSA_sum(UnitPrice), France_sum(CAST(Quantity AS BIGINT)), Cyprus_sum(CAST(Quantity AS BIGINT)), United Arab Emirates_sum(CAST(Quantity AS BIGINT)), Lebanon_sum(UnitPrice), Spain_sum(CAST(Quantity AS BIGINT)), Japan_sum(CAST(Quantity AS BIGINT)), Iceland_sum(UnitPrice), Cyprus_sum(CAST(CustomerID AS BIGINT)), Germany_sum(UnitPrice), Australia_sum(CAST(CustomerID AS BIGINT)), Sweden_sum(UnitPrice), Australia_sum(UnitPrice), Saudi Arabia_sum(CAST(Quantity AS BIGINT)), Canada_sum(CAST(Quantity AS BIGINT)), Denmark_sum(CAST(Quantity AS BIGINT)), Greece_sum(CAST(CustomerID AS BIGINT)), Iceland_sum(CAST(Quantity AS BIGINT)), Switzerland_sum(UnitPrice), Cyprus_sum(UnitPrice), Czech Republic_sum(CAST(CustomerID AS BIGINT)), Poland_sum(CAST(CustomerID AS BIGINT)), Spain_sum(CAST(CustomerID AS BIGINT)), EIRE_sum(CAST(CustomerID AS BIGINT)), Brazil_sum(CAST(CustomerID AS BIGINT)), Switzerland_sum(CAST(Quantity AS BIGINT)), Malta_sum(UnitPrice), United Kingdom_sum(CAST(Quantity AS BIGINT)), Channel Islands_sum(CAST(Quantity AS BIGINT)), Canada_sum(CAST(CustomerID AS BIGINT)), Denmark_sum(UnitPrice), Unspecified_sum(CAST(CustomerID AS BIGINT)), Channel Islands_sum(CAST(CustomerID AS BIGINT)), Lebanon_sum(CAST(CustomerID AS BIGINT)), Portugal_sum(CAST(Quantity AS BIGINT)), Netherlands_sum(CAST(Quantity AS BIGINT)), RSA_sum(CAST(Quantity AS BIGINT)), Hong Kong_sum(UnitPrice), Japan_sum(CAST(CustomerID AS BIGINT)), Portugal_sum(CAST(CustomerID AS BIGINT)), Finland_sum(UnitPrice), Saudi Arabia_sum(CAST(CustomerID AS BIGINT)), Finland_sum(CAST(Quantity AS BIGINT)), Unspecified_sum(CAST(Quantity AS BIGINT)), Czech Republic_sum(UnitPrice), Israel_sum(CAST(Quantity AS BIGINT)), Bahrain_sum(UnitPrice), Channel Islands_sum(UnitPrice), Saudi Arabia_sum(UnitPrice), Singapore_sum(CAST(Quantity AS BIGINT)), Brazil_sum(CAST(Quantity AS BIGINT)), USA_sum(CAST(CustomerID AS BIGINT)), Norway_sum(CAST(Quantity AS BIGINT)), Australia_sum(CAST(Quantity AS BIGINT)), Lithuania_sum(CAST(CustomerID AS BIGINT)), European Community_sum(CAST(Quantity AS BIGINT)), Norway_sum(CAST(CustomerID AS BIGINT)), Israel_sum(UnitPrice), USA_sum(CAST(Quantity AS BIGINT)), EIRE_sum(UnitPrice), date, Lithuania_sum(UnitPrice), Brazil_sum(UnitPrice), Malta_sum(CAST(CustomerID AS BIGINT)), United Arab Emirates_sum(CAST(CustomerID AS BIGINT)), Austria_sum(CAST(CustomerID AS BIGINT)), Italy_sum(CAST(Quantity AS BIGINT)), EIRE_sum(CAST(Quantity AS BIGINT)), Norway_sum(UnitPrice), Portugal_sum(UnitPrice), United Kingdom_sum(CAST(CustomerID AS BIGINT)), United Kingdom_sum(UnitPrice), Singapore_sum(CAST(CustomerID AS BIGINT)), Iceland_sum(CAST(CustomerID AS BIGINT)), Hong Kong_sum(CAST(Quantity AS BIGINT)), USA_sum(UnitPrice), Austria_sum(CAST(Quantity AS BIGINT)), Belgium_sum(UnitPrice), France_sum(UnitPrice), European Community_sum(CAST(CustomerID AS BIGINT)), Spain_sum(UnitPrice), Bahrain_sum(CAST(Quantity AS BIGINT)), Unspecified_sum(UnitPrice), Austria_sum(UnitPrice), Italy_sum(UnitPrice), Greece_sum(CAST(Quantity AS BIGINT)), Poland_sum(CAST(Quantity AS BIGINT)), Netherlands_sum(UnitPrice), RSA_sum(CAST(CustomerID AS BIGINT)), Germany_sum(CAST(CustomerID AS BIGINT)), Switzerland_sum(CAST(CustomerID AS BIGINT)), United Arab Emirates_sum(UnitPrice), Denmark_sum(CAST(CustomerID AS BIGINT)), Israel_sum(CAST(CustomerID AS BIGINT)), Hong Kong_sum(CAST(CustomerID AS BIGINT)), Japan_sum(UnitPrice), Malta_sum(CAST(Quantity AS BIGINT)), Finland_sum(CAST(CustomerID AS BIGINT))]; line 1 pos 7;\\n'Filter (date#2054 > '2011-12-05)\\n+- Project [date#2054, __pivot_sum(CAST(`Quantity` AS BIGINT)) AS `sum(CAST(``Quantity`` AS BIGINT))`#3994[0] AS Australia_sum(CAST(Quantity AS BIGINT))#4151L, __pivot_sum(`UnitPrice`) AS `sum(``UnitPrice``)`#4072[0] AS Australia_sum(UnitPrice)#4152, __pivot_sum(CAST(`CustomerID` AS BIGINT)) AS `sum(CAST(``CustomerID`` AS BIGINT))`#4150[0] AS Australia_sum(CAST(CustomerID AS BIGINT))#4153L, __pivot_sum(CAST(`Quantity` AS BIGINT)) AS `sum(CAST(``Quantity`` AS BIGINT))`#3994[1] AS Austria_sum(CAST(Quantity AS BIGINT))#4154L, __pivot_sum(`UnitPrice`) AS `sum(``UnitPrice``)`#4072[1] AS Austria_sum(UnitPrice)#4155, __pivot_sum(CAST(`CustomerID` AS BIGINT)) AS `sum(CAST(``CustomerID`` AS BIGINT))`#4150[1] AS Austria_sum(CAST(CustomerID AS BIGINT))#4156L, __pivot_sum(CAST(`Quantity` AS BIGINT)) AS `sum(CAST(``Quantity`` AS BIGINT))`#3994[2] AS Bahrain_sum(CAST(Quantity AS BIGINT))#4157L, __pivot_sum(`UnitPrice`) AS `sum(``UnitPrice``)`#4072[2] AS Bahrain_sum(UnitPrice)#4158, __pivot_sum(CAST(`CustomerID` AS BIGINT)) AS `sum(CAST(``CustomerID`` AS BIGINT))`#4150[2] AS Bahrain_sum(CAST(CustomerID AS BIGINT))#4159L, __pivot_sum(CAST(`Quantity` AS BIGINT)) AS `sum(CAST(``Quantity`` AS BIGINT))`#3994[3] AS Belgium_sum(CAST(Quantity AS BIGINT))#4160L, __pivot_sum(`UnitPrice`) AS `sum(``UnitPrice``)`#4072[3] AS Belgium_sum(UnitPrice)#4161, __pivot_sum(CAST(`CustomerID` AS BIGINT)) AS `sum(CAST(``CustomerID`` AS BIGINT))`#4150[3] AS Belgium_sum(CAST(CustomerID AS BIGINT))#4162L, __pivot_sum(CAST(`Quantity` AS BIGINT)) AS `sum(CAST(``Quantity`` AS BIGINT))`#3994[4] AS Brazil_sum(CAST(Quantity AS BIGINT))#4163L, __pivot_sum(`UnitPrice`) AS `sum(``UnitPrice``)`#4072[4] AS Brazil_sum(UnitPrice)#4164, __pivot_sum(CAST(`CustomerID` AS BIGINT)) AS `sum(CAST(``CustomerID`` AS BIGINT))`#4150[4] AS Brazil_sum(CAST(CustomerID AS BIGINT))#4165L, __pivot_sum(CAST(`Quantity` AS BIGINT)) AS `sum(CAST(``Quantity`` AS BIGINT))`#3994[5] AS Canada_sum(CAST(Quantity AS BIGINT))#4166L, __pivot_sum(`UnitPrice`) AS `sum(``UnitPrice``)`#4072[5] AS Canada_sum(UnitPrice)#4167, __pivot_sum(CAST(`CustomerID` AS BIGINT)) AS `sum(CAST(``CustomerID`` AS BIGINT))`#4150[5] AS Canada_sum(CAST(CustomerID AS BIGINT))#4168L, __pivot_sum(CAST(`Quantity` AS BIGINT)) AS `sum(CAST(``Quantity`` AS BIGINT))`#3994[6] AS Channel Islands_sum(CAST(Quantity AS BIGINT))#4169L, __pivot_sum(`UnitPrice`) AS `sum(``UnitPrice``)`#4072[6] AS Channel Islands_sum(UnitPrice)#4170, __pivot_sum(CAST(`CustomerID` AS BIGINT)) AS `sum(CAST(``CustomerID`` AS BIGINT))`#4150[6] AS Channel Islands_sum(CAST(CustomerID AS BIGINT))#4171L, __pivot_sum(CAST(`Quantity` AS BIGINT)) AS `sum(CAST(``Quantity`` AS BIGINT))`#3994[7] AS Cyprus_sum(CAST(Quantity AS BIGINT))#4172L, __pivot_sum(`UnitPrice`) AS `sum(``UnitPrice``)`#4072[7] AS Cyprus_sum(UnitPrice)#4173, ... 91 more fields]\\n   +- Aggregate [date#2054], [date#2054, pivotfirst(Country#17, sum(CAST(`Quantity` AS BIGINT))#3914L, Australia, Austria, Bahrain, Belgium, Brazil, Canada, Channel Islands, Cyprus, Czech Republic, Denmark, EIRE, European Community, Finland, France, Germany, Greece, Hong Kong, Iceland, Israel, Italy, Japan, Lebanon, Lithuania, Malta, Netherlands, Norway, Poland, Portugal, RSA, Saudi Arabia, Singapore, Spain, Sweden, Switzerland, USA, United Arab Emirates, United Kingdom, Unspecified, 0, 0) AS __pivot_sum(CAST(`Quantity` AS BIGINT)) AS `sum(CAST(``Quantity`` AS BIGINT))`#3994, pivotfirst(Country#17, sum(`UnitPrice`)#3915, Australia, Austria, Bahrain, Belgium, Brazil, Canada, Channel Islands, Cyprus, Czech Republic, Denmark, EIRE, European Community, Finland, France, Germany, Greece, Hong Kong, Iceland, Israel, Italy, Japan, Lebanon, Lithuania, Malta, Netherlands, Norway, Poland, Portugal, RSA, Saudi Arabia, Singapore, Spain, Sweden, Switzerland, USA, United Arab Emirates, United Kingdom, Unspecified, 0, 0) AS __pivot_sum(`UnitPrice`) AS `sum(``UnitPrice``)`#4072, pivotfirst(Country#17, sum(CAST(`CustomerID` AS BIGINT))#3916L, Australia, Austria, Bahrain, Belgium, Brazil, Canada, Channel Islands, Cyprus, Czech Republic, Denmark, EIRE, European Community, Finland, France, Germany, Greece, Hong Kong, Iceland, Israel, Italy, Japan, Lebanon, Lithuania, Malta, Netherlands, Norway, Poland, Portugal, RSA, Saudi Arabia, Singapore, Spain, Sweden, Switzerland, USA, United Arab Emirates, United Kingdom, Unspecified, 0, 0) AS __pivot_sum(CAST(`CustomerID` AS BIGINT)) AS `sum(CAST(``CustomerID`` AS BIGINT))`#4150]\\n      +- Aggregate [date#2054, Country#17], [date#2054, Country#17, sum(cast(Quantity#13 as bigint)) AS sum(CAST(`Quantity` AS BIGINT))#3914L, sum(UnitPrice#15) AS sum(`UnitPrice`)#3915, sum(cast(CustomerID#16 as bigint)) AS sum(CAST(`CustomerID` AS BIGINT))#3916L]\\n         +- Project [InvoiceNo#10, StockCode#11, Description#12, Quantity#13, InvoiceDate#14, UnitPrice#15, CustomerID#16, Country#17, to_date('InvoiceDate, Some(MM/d/yyyy H:mm)) AS date#2054]\\n            +- Repartition 5, false\\n               +- Relation[InvoiceNo#10,StockCode#11,Description#12,Quantity#13,InvoiceDate#14,UnitPrice#15,CustomerID#16,Country#17] csv\\n\""
     ]
    }
   ],
   "source": [
    "pivoted = dfWithDate.groupBy(\"date\").pivot(\"Country\").sum()\n",
    "\n",
    "pivoted.where(\"date > `2011-12-05`\").select(\"date\", \"`USA_sum(Quantity)`\").show()"
   ]
  },
  {
   "cell_type": "markdown",
   "metadata": {},
   "source": [
    "## 7.5 > 사용자 정의 집계함수"
   ]
  },
  {
   "cell_type": "markdown",
   "metadata": {},
   "source": [
    "현재까지는 java와 scala에서만 지원!"
   ]
  },
  {
   "cell_type": "code",
   "execution_count": null,
   "metadata": {},
   "outputs": [],
   "source": []
  },
  {
   "cell_type": "code",
   "execution_count": null,
   "metadata": {},
   "outputs": [],
   "source": []
  },
  {
   "cell_type": "code",
   "execution_count": null,
   "metadata": {},
   "outputs": [],
   "source": []
  },
  {
   "cell_type": "code",
   "execution_count": null,
   "metadata": {},
   "outputs": [],
   "source": []
  },
  {
   "cell_type": "code",
   "execution_count": null,
   "metadata": {},
   "outputs": [],
   "source": []
  },
  {
   "cell_type": "code",
   "execution_count": null,
   "metadata": {},
   "outputs": [],
   "source": []
  },
  {
   "cell_type": "code",
   "execution_count": null,
   "metadata": {},
   "outputs": [],
   "source": []
  },
  {
   "cell_type": "code",
   "execution_count": null,
   "metadata": {},
   "outputs": [],
   "source": []
  },
  {
   "cell_type": "code",
   "execution_count": null,
   "metadata": {},
   "outputs": [],
   "source": []
  },
  {
   "cell_type": "code",
   "execution_count": null,
   "metadata": {},
   "outputs": [],
   "source": []
  }
 ],
 "metadata": {
  "kernelspec": {
   "display_name": "Python 3",
   "language": "python",
   "name": "python3"
  },
  "language_info": {
   "codemirror_mode": {
    "name": "ipython",
    "version": 3
   },
   "file_extension": ".py",
   "mimetype": "text/x-python",
   "name": "python",
   "nbconvert_exporter": "python",
   "pygments_lexer": "ipython3",
   "version": "3.6.4"
  }
 },
 "nbformat": 4,
 "nbformat_minor": 2
}
