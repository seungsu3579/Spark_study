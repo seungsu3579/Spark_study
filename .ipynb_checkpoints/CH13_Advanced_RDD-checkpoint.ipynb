{
 "cells": [
  {
   "cell_type": "markdown",
   "metadata": {},
   "source": [
    "# 13장. RDD 고급개념"
   ]
  },
  {
   "cell_type": "code",
   "execution_count": 1,
   "metadata": {},
   "outputs": [
    {
     "data": {
      "text/plain": [
       "ParallelCollectionRDD[0] at parallelize at PythonRDD.scala:194"
      ]
     },
     "execution_count": 1,
     "metadata": {},
     "output_type": "execute_result"
    }
   ],
   "source": [
    "myCollection = \"Spark The Definitive Guide : Big Data Processing Made Simple\".split()\n",
    "words = sc.parallelize(myCollection, 2)\n",
    "words"
   ]
  },
  {
   "cell_type": "markdown",
   "metadata": {},
   "source": [
    "## 13.1 키-값 형태의 RDD\n",
    "ByKey 형태의 메서드는 PairRDD 타입만 사용 가능 > 키-값, 튜플 같은"
   ]
  },
  {
   "cell_type": "markdown",
   "metadata": {},
   "source": [
    "#### keyBy : 현재 값으로부터 키를 생성하는 함수"
   ]
  },
  {
   "cell_type": "code",
   "execution_count": 2,
   "metadata": {},
   "outputs": [
    {
     "data": {
      "text/plain": [
       "[('s', 'Spark'),\n",
       " ('t', 'The'),\n",
       " ('d', 'Definitive'),\n",
       " ('g', 'Guide'),\n",
       " (':', ':'),\n",
       " ('b', 'Big'),\n",
       " ('d', 'Data'),\n",
       " ('p', 'Processing'),\n",
       " ('m', 'Made'),\n",
       " ('s', 'Simple')]"
      ]
     },
     "execution_count": 2,
     "metadata": {},
     "output_type": "execute_result"
    }
   ],
   "source": [
    "# word.lower()[0] 이 키가 됨\n",
    "keyword = words.keyBy(lambda word : word.lower()[0])\n",
    "keyword.collect()"
   ]
  },
  {
   "cell_type": "markdown",
   "metadata": {},
   "source": [
    "#### mapValues : 값을 매핑하는 함수"
   ]
  },
  {
   "cell_type": "code",
   "execution_count": 3,
   "metadata": {},
   "outputs": [
    {
     "data": {
      "text/plain": [
       "[('s', 'SPARK'),\n",
       " ('t', 'THE'),\n",
       " ('d', 'DEFINITIVE'),\n",
       " ('g', 'GUIDE'),\n",
       " (':', ':'),\n",
       " ('b', 'BIG'),\n",
       " ('d', 'DATA'),\n",
       " ('p', 'PROCESSING'),\n",
       " ('m', 'MADE'),\n",
       " ('s', 'SIMPLE')]"
      ]
     },
     "execution_count": 3,
     "metadata": {},
     "output_type": "execute_result"
    }
   ],
   "source": [
    "keyword.mapValues(lambda word : word.upper()).collect()"
   ]
  },
  {
   "cell_type": "markdown",
   "metadata": {},
   "source": [
    "#### flatMapValues : 리스트 형태를 키값을 유지한채 값들만 flat하게 만들어버리는 함수"
   ]
  },
  {
   "cell_type": "code",
   "execution_count": 4,
   "metadata": {},
   "outputs": [
    {
     "data": {
      "text/plain": [
       "[('s', 'S'),\n",
       " ('s', 'P'),\n",
       " ('s', 'A'),\n",
       " ('s', 'R'),\n",
       " ('s', 'K'),\n",
       " ('t', 'T'),\n",
       " ('t', 'H'),\n",
       " ('t', 'E'),\n",
       " ('d', 'D'),\n",
       " ('d', 'E'),\n",
       " ('d', 'F'),\n",
       " ('d', 'I'),\n",
       " ('d', 'N'),\n",
       " ('d', 'I'),\n",
       " ('d', 'T'),\n",
       " ('d', 'I'),\n",
       " ('d', 'V'),\n",
       " ('d', 'E'),\n",
       " ('g', 'G'),\n",
       " ('g', 'U'),\n",
       " ('g', 'I'),\n",
       " ('g', 'D'),\n",
       " ('g', 'E'),\n",
       " (':', ':'),\n",
       " ('b', 'B'),\n",
       " ('b', 'I'),\n",
       " ('b', 'G'),\n",
       " ('d', 'D'),\n",
       " ('d', 'A'),\n",
       " ('d', 'T'),\n",
       " ('d', 'A'),\n",
       " ('p', 'P'),\n",
       " ('p', 'R'),\n",
       " ('p', 'O'),\n",
       " ('p', 'C'),\n",
       " ('p', 'E'),\n",
       " ('p', 'S'),\n",
       " ('p', 'S'),\n",
       " ('p', 'I'),\n",
       " ('p', 'N'),\n",
       " ('p', 'G'),\n",
       " ('m', 'M'),\n",
       " ('m', 'A'),\n",
       " ('m', 'D'),\n",
       " ('m', 'E'),\n",
       " ('s', 'S'),\n",
       " ('s', 'I'),\n",
       " ('s', 'M'),\n",
       " ('s', 'P'),\n",
       " ('s', 'L'),\n",
       " ('s', 'E')]"
      ]
     },
     "execution_count": 4,
     "metadata": {},
     "output_type": "execute_result"
    }
   ],
   "source": [
    "keyword.flatMapValues(lambda word : word.upper()).collect()"
   ]
  },
  {
   "cell_type": "code",
   "execution_count": 5,
   "metadata": {},
   "outputs": [
    {
     "data": {
      "text/plain": [
       "['s',\n",
       " 'SPARK',\n",
       " 't',\n",
       " 'THE',\n",
       " 'd',\n",
       " 'DEFINITIVE',\n",
       " 'g',\n",
       " 'GUIDE',\n",
       " ':',\n",
       " ':',\n",
       " 'b',\n",
       " 'BIG',\n",
       " 'd',\n",
       " 'DATA',\n",
       " 'p',\n",
       " 'PROCESSING',\n",
       " 'm',\n",
       " 'MADE',\n",
       " 's',\n",
       " 'SIMPLE']"
      ]
     },
     "execution_count": 5,
     "metadata": {},
     "output_type": "execute_result"
    }
   ],
   "source": [
    "# 전부다 flat하게 만들어버리는 flatMap()\n",
    "keyword.flatMap(lambda word : (word[0], word[1].upper())).collect()"
   ]
  },
  {
   "cell_type": "markdown",
   "metadata": {},
   "source": [
    "#### 키,값 추출하기"
   ]
  },
  {
   "cell_type": "code",
   "execution_count": 6,
   "metadata": {},
   "outputs": [
    {
     "name": "stdout",
     "output_type": "stream",
     "text": [
      "['s', 't', 'd', 'g', ':', 'b', 'd', 'p', 'm', 's']\n"
     ]
    },
    {
     "data": {
      "text/plain": [
       "['Spark',\n",
       " 'The',\n",
       " 'Definitive',\n",
       " 'Guide',\n",
       " ':',\n",
       " 'Big',\n",
       " 'Data',\n",
       " 'Processing',\n",
       " 'Made',\n",
       " 'Simple']"
      ]
     },
     "execution_count": 6,
     "metadata": {},
     "output_type": "execute_result"
    }
   ],
   "source": [
    "print(keyword.keys().collect())\n",
    "keyword.values().collect()"
   ]
  },
  {
   "cell_type": "markdown",
   "metadata": {},
   "source": [
    "#### lookup : 특정 키에 대한 결과를 볼수 있는 메서드"
   ]
  },
  {
   "cell_type": "code",
   "execution_count": 7,
   "metadata": {},
   "outputs": [
    {
     "data": {
      "text/plain": [
       "['Spark', 'Simple']"
      ]
     },
     "execution_count": 7,
     "metadata": {},
     "output_type": "execute_result"
    }
   ],
   "source": [
    "keyword.lookup(\"s\")"
   ]
  },
  {
   "cell_type": "markdown",
   "metadata": {},
   "source": [
    "#### sampleByKey : 근사치나 정확도를 이용해 RDD샘플을 키를 기준으로 추출"
   ]
  },
  {
   "cell_type": "code",
   "execution_count": 8,
   "metadata": {},
   "outputs": [
    {
     "data": {
      "text/plain": [
       "[('t', 'The'), ('d', 'Definitive'), ('d', 'Data'), ('s', 'Simple')]"
      ]
     },
     "execution_count": 8,
     "metadata": {},
     "output_type": "execute_result"
    }
   ],
   "source": [
    "import random\n",
    "distinctChars = words.flatMap(lambda word:list(word.lower())).distinct().collect()\n",
    "sampleMap = dict(map(lambda c : (c, random.random()), distinctChars))\n",
    "\n",
    "words.map(lambda word:(word.lower()[0], word)).sampleByKey(True, sampleMap, 1234).collect()"
   ]
  },
  {
   "cell_type": "markdown",
   "metadata": {},
   "source": [
    "## 13.2 집계"
   ]
  },
  {
   "cell_type": "code",
   "execution_count": 9,
   "metadata": {},
   "outputs": [],
   "source": [
    "chars = words.flatMap(lambda word : word.lower())\n",
    "KVcharacters = chars.map(lambda letter : (letter, 1))\n",
    "\n",
    "def maxFunc(x, y):\n",
    "    return max(x, y)\n",
    "def addFunc(x, y):\n",
    "    return x + y\n",
    "\n",
    "nums = sc.parallelize(range(1, 31), 5)"
   ]
  },
  {
   "cell_type": "markdown",
   "metadata": {},
   "source": [
    "#### countByKey : 키값을 기준으로 레코드 개수를 리턴"
   ]
  },
  {
   "cell_type": "code",
   "execution_count": 10,
   "metadata": {},
   "outputs": [
    {
     "data": {
      "text/plain": [
       "defaultdict(int,\n",
       "            {':': 1,\n",
       "             'a': 4,\n",
       "             'b': 1,\n",
       "             'c': 1,\n",
       "             'd': 4,\n",
       "             'e': 7,\n",
       "             'f': 1,\n",
       "             'g': 3,\n",
       "             'h': 1,\n",
       "             'i': 7,\n",
       "             'k': 1,\n",
       "             'l': 1,\n",
       "             'm': 2,\n",
       "             'n': 2,\n",
       "             'o': 1,\n",
       "             'p': 3,\n",
       "             'r': 2,\n",
       "             's': 4,\n",
       "             't': 3,\n",
       "             'u': 1,\n",
       "             'v': 1})"
      ]
     },
     "execution_count": 10,
     "metadata": {},
     "output_type": "execute_result"
    }
   ],
   "source": [
    "KVcharacters.countByKey()"
   ]
  },
  {
   "cell_type": "markdown",
   "metadata": {},
   "source": [
    "### 집계 연산 구현 방식 이해\n",
    "- groupByKey : 키 값으로 묶어 rdd 반환\n",
    "    - 모든 익스큐터에서 키와 관련된 모든 값을 읽어야하기에 키값별로 편차가 심한 데이터는 OutOfMemoryError가 발생할수 있다"
   ]
  },
  {
   "cell_type": "code",
   "execution_count": 11,
   "metadata": {},
   "outputs": [
    {
     "data": {
      "text/plain": [
       "[('s', 4),\n",
       " ('p', 3),\n",
       " ('r', 2),\n",
       " ('h', 1),\n",
       " ('d', 4),\n",
       " ('i', 7),\n",
       " ('g', 3),\n",
       " ('b', 1),\n",
       " ('c', 1),\n",
       " ('l', 1),\n",
       " ('a', 4),\n",
       " ('k', 1),\n",
       " ('t', 3),\n",
       " ('e', 7),\n",
       " ('f', 1),\n",
       " ('n', 2),\n",
       " ('v', 1),\n",
       " ('u', 1),\n",
       " (':', 1),\n",
       " ('o', 1),\n",
       " ('m', 2)]"
      ]
     },
     "execution_count": 11,
     "metadata": {},
     "output_type": "execute_result"
    }
   ],
   "source": [
    "from functools import reduce\n",
    "KVcharacters.groupByKey().map(lambda row : (row[0], reduce(addFunc, row[1]))).collect()"
   ]
  },
  {
   "cell_type": "markdown",
   "metadata": {},
   "source": [
    "- reduceByKey : 각각의 파티션에서 reduce가 일어나기에 모든값을 메모리에 유지하지 않아도 된다\n",
    "    - 작업부하도 줄이고 안정성, 연산 수행속도 향상을 기대"
   ]
  },
  {
   "cell_type": "code",
   "execution_count": 12,
   "metadata": {},
   "outputs": [
    {
     "data": {
      "text/plain": [
       "[('s', 4),\n",
       " ('p', 3),\n",
       " ('r', 2),\n",
       " ('h', 1),\n",
       " ('d', 4),\n",
       " ('i', 7),\n",
       " ('g', 3),\n",
       " ('b', 1),\n",
       " ('c', 1),\n",
       " ('l', 1),\n",
       " ('a', 4),\n",
       " ('k', 1),\n",
       " ('t', 3),\n",
       " ('e', 7),\n",
       " ('f', 1),\n",
       " ('n', 2),\n",
       " ('v', 1),\n",
       " ('u', 1),\n",
       " (':', 1),\n",
       " ('o', 1),\n",
       " ('m', 2)]"
      ]
     },
     "execution_count": 12,
     "metadata": {},
     "output_type": "execute_result"
    }
   ],
   "source": [
    "KVcharacters.reduceByKey(addFunc).collect()"
   ]
  },
  {
   "cell_type": "markdown",
   "metadata": {},
   "source": [
    "### 기타 집계 메서드"
   ]
  },
  {
   "cell_type": "markdown",
   "metadata": {},
   "source": [
    "#### aggregate(집계시작값, 파티션내 수행함수, 모든파티션에 수행될 함수)\n",
    "- aggregate : 드라이버에서 최종집계 >> 익스큐터의 결과가 크면 OutOfMemory\n",
    "- treeAggregate : 집계처리를 여러단계로 구성 >> 드라이버 메모리 소모를 줄임"
   ]
  },
  {
   "cell_type": "code",
   "execution_count": 13,
   "metadata": {},
   "outputs": [
    {
     "data": {
      "text/plain": [
       "90"
      ]
     },
     "execution_count": 13,
     "metadata": {},
     "output_type": "execute_result"
    }
   ],
   "source": [
    "nums.aggregate(0, maxFunc, addFunc)"
   ]
  },
  {
   "cell_type": "code",
   "execution_count": 14,
   "metadata": {},
   "outputs": [
    {
     "data": {
      "text/plain": [
       "90"
      ]
     },
     "execution_count": 14,
     "metadata": {},
     "output_type": "execute_result"
    }
   ],
   "source": [
    "depth = 3\n",
    "nums.treeAggregate(0, maxFunc, addFunc, depth)"
   ]
  },
  {
   "cell_type": "markdown",
   "metadata": {},
   "source": [
    "#### aggregateByKey : 파티션 기준연산이 아니라 키를 기준으로 연산"
   ]
  },
  {
   "cell_type": "code",
   "execution_count": 15,
   "metadata": {},
   "outputs": [
    {
     "data": {
      "text/plain": [
       "[(1, 72), (2, 33)]"
      ]
     },
     "execution_count": 15,
     "metadata": {},
     "output_type": "execute_result"
    }
   ],
   "source": [
    "nums.keyBy(lambda x : 1 if x > 15 else 2).aggregateByKey(0, maxFunc, addFunc).collect()"
   ]
  },
  {
   "cell_type": "markdown",
   "metadata": {},
   "source": [
    "#### combineByKey : 키를 기준으로 연산을 하며 파라미터로 사용된 함수에 따라 값을 병합\n",
    " 병합과정에서 타입이 바뀔 수 있음"
   ]
  },
  {
   "cell_type": "code",
   "execution_count": 16,
   "metadata": {},
   "outputs": [
    {
     "data": {
      "text/plain": [
       "[('s', [1, 1, 1, 1]),\n",
       " ('d', [1, 1, 1, 1]),\n",
       " ('l', [1]),\n",
       " ('v', [1]),\n",
       " (':', [1]),\n",
       " ('p', [1, 1, 1]),\n",
       " ('r', [1, 1]),\n",
       " ('c', [1]),\n",
       " ('k', [1]),\n",
       " ('t', [1, 1, 1]),\n",
       " ('n', [1, 1]),\n",
       " ('u', [1]),\n",
       " ('o', [1]),\n",
       " ('h', [1]),\n",
       " ('i', [1, 1, 1, 1, 1, 1, 1]),\n",
       " ('g', [1, 1, 1]),\n",
       " ('b', [1]),\n",
       " ('a', [1, 1, 1, 1]),\n",
       " ('e', [1, 1, 1, 1, 1, 1, 1]),\n",
       " ('f', [1]),\n",
       " ('m', [1, 1])]"
      ]
     },
     "execution_count": 16,
     "metadata": {},
     "output_type": "execute_result"
    }
   ],
   "source": [
    "def valToCombiner(value):\n",
    "    return [value]\n",
    "def mergeValuesFunc(vals, valToAppend):\n",
    "    vals.append(valToAppend)\n",
    "    return vals\n",
    "def mergeCombineFunc(vals1, vals2):\n",
    "    return vals1 + vals2\n",
    "outputPartitions = 6\n",
    "\n",
    "KVcharacters.combineByKey(valToCombiner, mergeValuesFunc, mergeCombineFunc, outputPartitions).collect()"
   ]
  },
  {
   "cell_type": "markdown",
   "metadata": {},
   "source": [
    "#### foldByKey : 결합함수와 항등원인 0을 이용해 각 키의 값을 병합 \n",
    "reduceByKey랑 비슷 ; 항등원을 인자로 줘야하는 점이 다름"
   ]
  },
  {
   "cell_type": "code",
   "execution_count": 17,
   "metadata": {},
   "outputs": [
    {
     "data": {
      "text/plain": [
       "[('s', 4),\n",
       " ('p', 3),\n",
       " ('r', 2),\n",
       " ('h', 1),\n",
       " ('d', 4),\n",
       " ('i', 7),\n",
       " ('g', 3),\n",
       " ('b', 1),\n",
       " ('c', 1),\n",
       " ('l', 1),\n",
       " ('a', 4),\n",
       " ('k', 1),\n",
       " ('t', 3),\n",
       " ('e', 7),\n",
       " ('f', 1),\n",
       " ('n', 2),\n",
       " ('v', 1),\n",
       " ('u', 1),\n",
       " (':', 1),\n",
       " ('o', 1),\n",
       " ('m', 2)]"
      ]
     },
     "execution_count": 17,
     "metadata": {},
     "output_type": "execute_result"
    }
   ],
   "source": [
    "KVcharacters.foldByKey(0, addFunc).collect()"
   ]
  },
  {
   "cell_type": "markdown",
   "metadata": {},
   "source": [
    "## 13.3 cogroup \n",
    "스칼라를 사용하면 3개의 키-값 형태의 RDD를 그룹화\n",
    "파이썬을 사용하면 2개의 키-값 형태의 RDD를 그룹화\n",
    "- 키를 기준으로 그룹화!!!\n",
    "- RDD에 대한 그룹기반의 조인을 수행\n",
    "- 출력파티션 수나 클러스터에 데이터 분산 방식을 제어하기 위해 사용자 정의 파티션 함수를 파라미터로 줄 수 있음"
   ]
  },
  {
   "cell_type": "code",
   "execution_count": 25,
   "metadata": {},
   "outputs": [
    {
     "data": {
      "text/plain": [
       "[('s', [0.6180502779695917], [0.7259047289921635]),\n",
       " ('p', [0.17179780996984817], [0.10066614711489186]),\n",
       " ('r', [0.2768817952346454], [0.4716119523279535]),\n",
       " ('i', [0.250440715152488], [0.6046769419701608]),\n",
       " ('g', [0.30498268844803544], [0.4212155835062287])]"
      ]
     },
     "execution_count": 25,
     "metadata": {},
     "output_type": "execute_result"
    }
   ],
   "source": [
    "import random\n",
    "distinctChars = words.flatMap(lambda word:list(word.lower())).distinct()\n",
    "\n",
    "charRDD = distinctChars.map(lambda c : (c, random.random()))\n",
    "charRDD2 = distinctChars.map(lambda c : (c, random.random()))\n",
    "\n",
    "charRDD.cogroup(charRDD2).map(lambda row : (row[0], list(row[1][0]), list(row[1][1]))).take(5)"
   ]
  },
  {
   "cell_type": "markdown",
   "metadata": {},
   "source": [
    "## 13.4 조인\n",
    "구조적 API와 모두 동일한 기본 형식을 사용\n",
    "- 출력 파티션 수나 사용자 정의 파티션 함수를 파라미터로 사용"
   ]
  },
  {
   "cell_type": "markdown",
   "metadata": {},
   "source": [
    "### 내부 조인\n",
    "다른 조인도 마찬가지로 적용 by key"
   ]
  },
  {
   "cell_type": "code",
   "execution_count": 32,
   "metadata": {
    "collapsed": true
   },
   "outputs": [
    {
     "data": {
      "text/plain": [
       "[('u', (1, 0.16164537283386482)),\n",
       " ('m', (1, 0.7259047289921635)),\n",
       " ('m', (1, 0.7259047289921635)),\n",
       " ('k', (1, 0.17179780996984817)),\n",
       " ('t', (1, 0.2768817952346454)),\n",
       " ('t', (1, 0.2768817952346454)),\n",
       " ('t', (1, 0.2768817952346454)),\n",
       " ('e', (1, 0.9808139104191489)),\n",
       " ('e', (1, 0.9808139104191489)),\n",
       " ('e', (1, 0.9808139104191489)),\n",
       " ('e', (1, 0.9808139104191489)),\n",
       " ('e', (1, 0.9808139104191489)),\n",
       " ('e', (1, 0.9808139104191489)),\n",
       " ('e', (1, 0.9808139104191489)),\n",
       " ('f', (1, 0.4874474039474913)),\n",
       " ('n', (1, 0.250440715152488)),\n",
       " ('n', (1, 0.250440715152488)),\n",
       " (':', (1, 0.2957658103767279)),\n",
       " ('o', (1, 0.16495429728330202)),\n",
       " ('s', (1, 0.9305358452181502)),\n",
       " ('s', (1, 0.9305358452181502)),\n",
       " ('s', (1, 0.9305358452181502)),\n",
       " ('s', (1, 0.9305358452181502)),\n",
       " ('p', (1, 0.07236554685680652)),\n",
       " ('p', (1, 0.07236554685680652)),\n",
       " ('p', (1, 0.07236554685680652)),\n",
       " ('r', (1, 0.698502468661265)),\n",
       " ('r', (1, 0.698502468661265)),\n",
       " ('h', (1, 0.7883321366844236)),\n",
       " ('i', (1, 0.9282857187616657)),\n",
       " ('i', (1, 0.9282857187616657)),\n",
       " ('i', (1, 0.9282857187616657)),\n",
       " ('i', (1, 0.9282857187616657)),\n",
       " ('i', (1, 0.9282857187616657)),\n",
       " ('i', (1, 0.9282857187616657)),\n",
       " ('i', (1, 0.9282857187616657)),\n",
       " ('b', (1, 0.7168882708807093)),\n",
       " ('c', (1, 0.369242370915027)),\n",
       " ('l', (1, 0.3157371281037228)),\n",
       " ('d', (1, 0.09543765686879158)),\n",
       " ('d', (1, 0.09543765686879158)),\n",
       " ('d', (1, 0.09543765686879158)),\n",
       " ('d', (1, 0.09543765686879158)),\n",
       " ('g', (1, 0.948716726217589)),\n",
       " ('g', (1, 0.948716726217589)),\n",
       " ('g', (1, 0.948716726217589)),\n",
       " ('a', (1, 0.6180502779695917)),\n",
       " ('a', (1, 0.6180502779695917)),\n",
       " ('a', (1, 0.6180502779695917)),\n",
       " ('a', (1, 0.6180502779695917)),\n",
       " ('v', (1, 0.30498268844803544))]"
      ]
     },
     "execution_count": 32,
     "metadata": {},
     "output_type": "execute_result"
    }
   ],
   "source": [
    "keyedChars = distinctChars.map(lambda c : (c, random.random()))\n",
    "outputPartitions = 10\n",
    "\n",
    "KVcharacters.join(keyedChars).collect()\n",
    "KVcharacters.join(keyedChars, outputPartitions).collect()"
   ]
  },
  {
   "cell_type": "markdown",
   "metadata": {},
   "source": [
    "### zip\n",
    "동일한 길이의 2개의 RDD를 연결하여 PairRDD를 생성 >> 동일한 수의 요소와 파티션 필요\n",
    "<br>기존 파이썬의 문법과 동일~"
   ]
  },
  {
   "cell_type": "code",
   "execution_count": 33,
   "metadata": {},
   "outputs": [
    {
     "data": {
      "text/plain": [
       "[('Spark', 0),\n",
       " ('The', 1),\n",
       " ('Definitive', 2),\n",
       " ('Guide', 3),\n",
       " (':', 4),\n",
       " ('Big', 5),\n",
       " ('Data', 6),\n",
       " ('Processing', 7),\n",
       " ('Made', 8),\n",
       " ('Simple', 9)]"
      ]
     },
     "execution_count": 33,
     "metadata": {},
     "output_type": "execute_result"
    }
   ],
   "source": [
    "numRange = sc.parallelize(range(10), 2)\n",
    "words.zip(numRange).collect()"
   ]
  },
  {
   "cell_type": "markdown",
   "metadata": {},
   "source": [
    "## 13.5 파티션 제어\n",
    "RDD의 파티셔닝은 물리적으로 정확히 분산되는 방식을 정의 가능"
   ]
  },
  {
   "cell_type": "markdown",
   "metadata": {},
   "source": [
    "### coalesce\n",
    "파티션을 재분배할 때 발생하는 셔플을 방지하기 위해 동일한 워커에 존재하는 파티션을 합치는 메서드"
   ]
  },
  {
   "cell_type": "code",
   "execution_count": 38,
   "metadata": {},
   "outputs": [
    {
     "data": {
      "text/plain": [
       "1"
      ]
     },
     "execution_count": 38,
     "metadata": {},
     "output_type": "execute_result"
    }
   ],
   "source": [
    "words.coalesce(1).getNumPartitions()"
   ]
  },
  {
   "cell_type": "markdown",
   "metadata": {},
   "source": [
    "### repartition\n",
    "파티션 수를 조절하는 메서드 ; 파티션 수가 많아지면 병렬 처리 수준이 향상\n",
    "<br>처리시 데이터간의 셔플이 발생할 수도...\n",
    "- repartitionAndSortWithinPartitions 메서드\n",
    "    - 파티션 재분배와 더불어 정렬방식을 지정가능"
   ]
  },
  {
   "cell_type": "code",
   "execution_count": 40,
   "metadata": {},
   "outputs": [
    {
     "data": {
      "text/plain": [
       "10"
      ]
     },
     "execution_count": 40,
     "metadata": {},
     "output_type": "execute_result"
    }
   ],
   "source": [
    "words.repartition(10).getNumPartitions()"
   ]
  },
  {
   "cell_type": "markdown",
   "metadata": {},
   "source": [
    "### 사용자 정의 파티셔닝\n",
    "파티셔닝의 목적은 데이터를 균등하게 배분하는것!!!\n",
    "- 사용자 정의 파티셔닝을 사용하려면 Partitioner을 확장한 클래스를 구현"
   ]
  },
  {
   "cell_type": "code",
   "execution_count": 41,
   "metadata": {},
   "outputs": [
    {
     "name": "stdout",
     "output_type": "stream",
     "text": [
      "root\n",
      " |-- InvoiceNo: string (nullable = true)\n",
      " |-- StockCode: string (nullable = true)\n",
      " |-- Description: string (nullable = true)\n",
      " |-- Quantity: integer (nullable = true)\n",
      " |-- InvoiceDate: string (nullable = true)\n",
      " |-- UnitPrice: double (nullable = true)\n",
      " |-- CustomerID: integer (nullable = true)\n",
      " |-- Country: string (nullable = true)\n",
      "\n"
     ]
    }
   ],
   "source": [
    "df = spark.read.option(\"header\", \"true\").option(\"inferSchema\", \"true\")\\\n",
    ".csv(\"file:///home/ubuntu/ybigta/Dataset_spark/data/retail-data/all/\")\n",
    "rdd = df.coalesce(10).rdd\n",
    "\n",
    "df.printSchema()"
   ]
  },
  {
   "cell_type": "code",
   "execution_count": 43,
   "metadata": {},
   "outputs": [
    {
     "data": {
      "text/plain": [
       "[2, 4299, 4294]"
      ]
     },
     "execution_count": 43,
     "metadata": {},
     "output_type": "execute_result"
    }
   ],
   "source": [
    "def partitionFunc(key):\n",
    "    import random\n",
    "    \n",
    "    if key == 17850 or key == 12583:\n",
    "        return 0\n",
    "    else:\n",
    "        return random.randint(1,2)\n",
    "    \n",
    "keyedRDD = rdd.keyBy(lambda x : x[6])\n",
    "\n",
    "keyedRDD\\\n",
    ".partitionBy(3, partitionFunc)\\\n",
    ".map(lambda x : x[0])\\\n",
    ".glom()\\\n",
    ".map(lambda x : len(set(x)))\\\n",
    ".take(5)"
   ]
  },
  {
   "cell_type": "markdown",
   "metadata": {},
   "source": [
    "## 13.6 사용자 정의 직렬화 (Kryo 직렬화)\n",
    "그런게 있단다... 아직은 이해가 되질 않는다...\n",
    "4부에서 공부해보자,.ㅜㅠㅜㅠ"
   ]
  },
  {
   "cell_type": "code",
   "execution_count": null,
   "metadata": {},
   "outputs": [],
   "source": []
  }
 ],
 "metadata": {
  "kernelspec": {
   "display_name": "Python 3",
   "language": "python",
   "name": "python3"
  },
  "language_info": {
   "codemirror_mode": {
    "name": "ipython",
    "version": 3
   },
   "file_extension": ".py",
   "mimetype": "text/x-python",
   "name": "python",
   "nbconvert_exporter": "python",
   "pygments_lexer": "ipython3",
   "version": "3.6.4"
  }
 },
 "nbformat": 4,
 "nbformat_minor": 2
}
